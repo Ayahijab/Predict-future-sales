{
 "cells": [
  {
   "cell_type": "code",
   "execution_count": 183,
   "id": "f9025553",
   "metadata": {
    "execution": {
     "iopub.execute_input": "2025-05-01T18:24:14.309907Z",
     "iopub.status.busy": "2025-05-01T18:24:14.309453Z",
     "iopub.status.idle": "2025-05-01T18:24:19.473246Z",
     "shell.execute_reply": "2025-05-01T18:24:19.472007Z"
    },
    "papermill": {
     "duration": 5.175011,
     "end_time": "2025-05-01T18:24:19.475102",
     "exception": false,
     "start_time": "2025-05-01T18:24:14.300091",
     "status": "completed"
    },
    "tags": []
   },
   "outputs": [],
   "source": [
    "import numpy as np\n",
    "import pandas as pd\n",
    "import matplotlib.pyplot as plt\n",
    "import seaborn as sns \n",
    "sns.set_theme(\"notebook\")"
   ]
  },
  {
   "cell_type": "code",
   "execution_count": 184,
   "id": "e150b11a",
   "metadata": {
    "execution": {
     "iopub.execute_input": "2025-05-01T18:24:19.489712Z",
     "iopub.status.busy": "2025-05-01T18:24:19.489164Z",
     "iopub.status.idle": "2025-05-01T18:24:19.592609Z",
     "shell.execute_reply": "2025-05-01T18:24:19.591452Z"
    },
    "papermill": {
     "duration": 0.113064,
     "end_time": "2025-05-01T18:24:19.594279",
     "exception": false,
     "start_time": "2025-05-01T18:24:19.481215",
     "status": "completed"
    },
    "tags": []
   },
   "outputs": [
    {
     "data": {
      "application/vnd.microsoft.datawrangler.viewer.v0+json": {
       "columns": [
        {
         "name": "index",
         "rawType": "int64",
         "type": "integer"
        },
        {
         "name": "instant",
         "rawType": "int64",
         "type": "integer"
        },
        {
         "name": "dteday",
         "rawType": "object",
         "type": "string"
        },
        {
         "name": "season",
         "rawType": "int64",
         "type": "integer"
        },
        {
         "name": "yr",
         "rawType": "int64",
         "type": "integer"
        },
        {
         "name": "mnth",
         "rawType": "int64",
         "type": "integer"
        },
        {
         "name": "hr",
         "rawType": "int64",
         "type": "integer"
        },
        {
         "name": "holiday",
         "rawType": "int64",
         "type": "integer"
        },
        {
         "name": "weekday",
         "rawType": "int64",
         "type": "integer"
        },
        {
         "name": "workingday",
         "rawType": "int64",
         "type": "integer"
        },
        {
         "name": "weathersit",
         "rawType": "int64",
         "type": "integer"
        },
        {
         "name": "temp",
         "rawType": "float64",
         "type": "float"
        },
        {
         "name": "atemp",
         "rawType": "float64",
         "type": "float"
        },
        {
         "name": "hum",
         "rawType": "float64",
         "type": "float"
        },
        {
         "name": "windspeed",
         "rawType": "float64",
         "type": "float"
        },
        {
         "name": "casual",
         "rawType": "int64",
         "type": "integer"
        },
        {
         "name": "registered",
         "rawType": "int64",
         "type": "integer"
        },
        {
         "name": "cnt",
         "rawType": "int64",
         "type": "integer"
        }
       ],
       "conversionMethod": "pd.DataFrame",
       "ref": "7495aacc-2b35-4f4f-bbd4-02025314cab3",
       "rows": [
        [
         "0",
         "1",
         "2011-01-01",
         "1",
         "0",
         "1",
         "0",
         "0",
         "6",
         "0",
         "1",
         "0.24",
         "0.2879",
         "0.81",
         "0.0",
         "3",
         "13",
         "16"
        ],
        [
         "1",
         "2",
         "2011-01-01",
         "1",
         "0",
         "1",
         "1",
         "0",
         "6",
         "0",
         "1",
         "0.22",
         "0.2727",
         "0.8",
         "0.0",
         "8",
         "32",
         "40"
        ],
        [
         "2",
         "3",
         "2011-01-01",
         "1",
         "0",
         "1",
         "2",
         "0",
         "6",
         "0",
         "1",
         "0.22",
         "0.2727",
         "0.8",
         "0.0",
         "5",
         "27",
         "32"
        ],
        [
         "3",
         "4",
         "2011-01-01",
         "1",
         "0",
         "1",
         "3",
         "0",
         "6",
         "0",
         "1",
         "0.24",
         "0.2879",
         "0.75",
         "0.0",
         "3",
         "10",
         "13"
        ],
        [
         "4",
         "5",
         "2011-01-01",
         "1",
         "0",
         "1",
         "4",
         "0",
         "6",
         "0",
         "1",
         "0.24",
         "0.2879",
         "0.75",
         "0.0",
         "0",
         "1",
         "1"
        ]
       ],
       "shape": {
        "columns": 17,
        "rows": 5
       }
      },
      "text/html": [
       "<div>\n",
       "<style scoped>\n",
       "    .dataframe tbody tr th:only-of-type {\n",
       "        vertical-align: middle;\n",
       "    }\n",
       "\n",
       "    .dataframe tbody tr th {\n",
       "        vertical-align: top;\n",
       "    }\n",
       "\n",
       "    .dataframe thead th {\n",
       "        text-align: right;\n",
       "    }\n",
       "</style>\n",
       "<table border=\"1\" class=\"dataframe\">\n",
       "  <thead>\n",
       "    <tr style=\"text-align: right;\">\n",
       "      <th></th>\n",
       "      <th>instant</th>\n",
       "      <th>dteday</th>\n",
       "      <th>season</th>\n",
       "      <th>yr</th>\n",
       "      <th>mnth</th>\n",
       "      <th>hr</th>\n",
       "      <th>holiday</th>\n",
       "      <th>weekday</th>\n",
       "      <th>workingday</th>\n",
       "      <th>weathersit</th>\n",
       "      <th>temp</th>\n",
       "      <th>atemp</th>\n",
       "      <th>hum</th>\n",
       "      <th>windspeed</th>\n",
       "      <th>casual</th>\n",
       "      <th>registered</th>\n",
       "      <th>cnt</th>\n",
       "    </tr>\n",
       "  </thead>\n",
       "  <tbody>\n",
       "    <tr>\n",
       "      <th>0</th>\n",
       "      <td>1</td>\n",
       "      <td>2011-01-01</td>\n",
       "      <td>1</td>\n",
       "      <td>0</td>\n",
       "      <td>1</td>\n",
       "      <td>0</td>\n",
       "      <td>0</td>\n",
       "      <td>6</td>\n",
       "      <td>0</td>\n",
       "      <td>1</td>\n",
       "      <td>0.24</td>\n",
       "      <td>0.2879</td>\n",
       "      <td>0.81</td>\n",
       "      <td>0.0</td>\n",
       "      <td>3</td>\n",
       "      <td>13</td>\n",
       "      <td>16</td>\n",
       "    </tr>\n",
       "    <tr>\n",
       "      <th>1</th>\n",
       "      <td>2</td>\n",
       "      <td>2011-01-01</td>\n",
       "      <td>1</td>\n",
       "      <td>0</td>\n",
       "      <td>1</td>\n",
       "      <td>1</td>\n",
       "      <td>0</td>\n",
       "      <td>6</td>\n",
       "      <td>0</td>\n",
       "      <td>1</td>\n",
       "      <td>0.22</td>\n",
       "      <td>0.2727</td>\n",
       "      <td>0.80</td>\n",
       "      <td>0.0</td>\n",
       "      <td>8</td>\n",
       "      <td>32</td>\n",
       "      <td>40</td>\n",
       "    </tr>\n",
       "    <tr>\n",
       "      <th>2</th>\n",
       "      <td>3</td>\n",
       "      <td>2011-01-01</td>\n",
       "      <td>1</td>\n",
       "      <td>0</td>\n",
       "      <td>1</td>\n",
       "      <td>2</td>\n",
       "      <td>0</td>\n",
       "      <td>6</td>\n",
       "      <td>0</td>\n",
       "      <td>1</td>\n",
       "      <td>0.22</td>\n",
       "      <td>0.2727</td>\n",
       "      <td>0.80</td>\n",
       "      <td>0.0</td>\n",
       "      <td>5</td>\n",
       "      <td>27</td>\n",
       "      <td>32</td>\n",
       "    </tr>\n",
       "    <tr>\n",
       "      <th>3</th>\n",
       "      <td>4</td>\n",
       "      <td>2011-01-01</td>\n",
       "      <td>1</td>\n",
       "      <td>0</td>\n",
       "      <td>1</td>\n",
       "      <td>3</td>\n",
       "      <td>0</td>\n",
       "      <td>6</td>\n",
       "      <td>0</td>\n",
       "      <td>1</td>\n",
       "      <td>0.24</td>\n",
       "      <td>0.2879</td>\n",
       "      <td>0.75</td>\n",
       "      <td>0.0</td>\n",
       "      <td>3</td>\n",
       "      <td>10</td>\n",
       "      <td>13</td>\n",
       "    </tr>\n",
       "    <tr>\n",
       "      <th>4</th>\n",
       "      <td>5</td>\n",
       "      <td>2011-01-01</td>\n",
       "      <td>1</td>\n",
       "      <td>0</td>\n",
       "      <td>1</td>\n",
       "      <td>4</td>\n",
       "      <td>0</td>\n",
       "      <td>6</td>\n",
       "      <td>0</td>\n",
       "      <td>1</td>\n",
       "      <td>0.24</td>\n",
       "      <td>0.2879</td>\n",
       "      <td>0.75</td>\n",
       "      <td>0.0</td>\n",
       "      <td>0</td>\n",
       "      <td>1</td>\n",
       "      <td>1</td>\n",
       "    </tr>\n",
       "  </tbody>\n",
       "</table>\n",
       "</div>"
      ],
      "text/plain": [
       "   instant      dteday  season  yr  mnth  hr  holiday  weekday  workingday  \\\n",
       "0        1  2011-01-01       1   0     1   0        0        6           0   \n",
       "1        2  2011-01-01       1   0     1   1        0        6           0   \n",
       "2        3  2011-01-01       1   0     1   2        0        6           0   \n",
       "3        4  2011-01-01       1   0     1   3        0        6           0   \n",
       "4        5  2011-01-01       1   0     1   4        0        6           0   \n",
       "\n",
       "   weathersit  temp   atemp   hum  windspeed  casual  registered  cnt  \n",
       "0           1  0.24  0.2879  0.81        0.0       3          13   16  \n",
       "1           1  0.22  0.2727  0.80        0.0       8          32   40  \n",
       "2           1  0.22  0.2727  0.80        0.0       5          27   32  \n",
       "3           1  0.24  0.2879  0.75        0.0       3          10   13  \n",
       "4           1  0.24  0.2879  0.75        0.0       0           1    1  "
      ]
     },
     "execution_count": 184,
     "metadata": {},
     "output_type": "execute_result"
    }
   ],
   "source": [
    "bike_dataset = pd.read_csv(\"hour.csv\")\n",
    "bike_dataset.head()\n"
   ]
  },
  {
   "cell_type": "code",
   "execution_count": 185,
   "id": "e30f97b3",
   "metadata": {
    "execution": {
     "iopub.execute_input": "2025-05-01T18:24:19.606716Z",
     "iopub.status.busy": "2025-05-01T18:24:19.606350Z",
     "iopub.status.idle": "2025-05-01T18:24:19.629932Z",
     "shell.execute_reply": "2025-05-01T18:24:19.628749Z"
    },
    "papermill": {
     "duration": 0.031765,
     "end_time": "2025-05-01T18:24:19.631772",
     "exception": false,
     "start_time": "2025-05-01T18:24:19.600007",
     "status": "completed"
    },
    "tags": []
   },
   "outputs": [
    {
     "data": {
      "text/plain": [
       "np.int64(0)"
      ]
     },
     "execution_count": 185,
     "metadata": {},
     "output_type": "execute_result"
    }
   ],
   "source": [
    "bike_dataset.duplicated().sum()\n"
   ]
  },
  {
   "cell_type": "code",
   "execution_count": 186,
   "id": "02c9d705",
   "metadata": {
    "execution": {
     "iopub.execute_input": "2025-05-01T18:24:19.647720Z",
     "iopub.status.busy": "2025-05-01T18:24:19.647333Z",
     "iopub.status.idle": "2025-05-01T18:24:19.660806Z",
     "shell.execute_reply": "2025-05-01T18:24:19.659734Z"
    },
    "papermill": {
     "duration": 0.022265,
     "end_time": "2025-05-01T18:24:19.662684",
     "exception": false,
     "start_time": "2025-05-01T18:24:19.640419",
     "status": "completed"
    },
    "tags": []
   },
   "outputs": [
    {
     "data": {
      "text/plain": [
       "instant       0.0\n",
       "dteday        0.0\n",
       "season        0.0\n",
       "yr            0.0\n",
       "mnth          0.0\n",
       "hr            0.0\n",
       "holiday       0.0\n",
       "weekday       0.0\n",
       "workingday    0.0\n",
       "weathersit    0.0\n",
       "temp          0.0\n",
       "atemp         0.0\n",
       "hum           0.0\n",
       "windspeed     0.0\n",
       "casual        0.0\n",
       "registered    0.0\n",
       "cnt           0.0\n",
       "dtype: float64"
      ]
     },
     "execution_count": 186,
     "metadata": {},
     "output_type": "execute_result"
    }
   ],
   "source": [
    "bike_dataset.isnull().mean()"
   ]
  },
  {
   "cell_type": "code",
   "execution_count": 187,
   "id": "fe55f661",
   "metadata": {},
   "outputs": [
    {
     "name": "stdout",
     "output_type": "stream",
     "text": [
      "Index(['instant', 'datetime', 'season', 'year', 'month', 'hour', 'holiday',\n",
      "       'weekday', 'workingday', 'weather', 'temp', 'atemp', 'humidity',\n",
      "       'windspeed', 'casual', 'registered', 'count'],\n",
      "      dtype='object')\n"
     ]
    }
   ],
   "source": [
    "bike_dataset = bike_dataset.rename(columns={'yr':'year',\n",
    "                                            'mnth':'month',\n",
    "                                            'hum':'humidity',\n",
    "                                            'weathersit':'weather',\n",
    "                                            'cnt':'count',\n",
    "                                           'hr':'hour','dteday':'datetime'\n",
    "                                              })\n",
    "print(bike_dataset.columns)"
   ]
  },
  {
   "cell_type": "code",
   "execution_count": 188,
   "id": "0b56cbb7",
   "metadata": {
    "execution": {
     "iopub.execute_input": "2025-05-01T18:24:19.676116Z",
     "iopub.status.busy": "2025-05-01T18:24:19.675353Z",
     "iopub.status.idle": "2025-05-01T18:24:19.698428Z",
     "shell.execute_reply": "2025-05-01T18:24:19.696823Z"
    },
    "papermill": {
     "duration": 0.031837,
     "end_time": "2025-05-01T18:24:19.700444",
     "exception": false,
     "start_time": "2025-05-01T18:24:19.668607",
     "status": "completed"
    },
    "tags": []
   },
   "outputs": [
    {
     "name": "stdout",
     "output_type": "stream",
     "text": [
      "<class 'pandas.core.frame.DataFrame'>\n",
      "RangeIndex: 17379 entries, 0 to 17378\n",
      "Data columns (total 17 columns):\n",
      " #   Column      Non-Null Count  Dtype  \n",
      "---  ------      --------------  -----  \n",
      " 0   instant     17379 non-null  int64  \n",
      " 1   datetime    17379 non-null  object \n",
      " 2   season      17379 non-null  int64  \n",
      " 3   year        17379 non-null  int64  \n",
      " 4   month       17379 non-null  int64  \n",
      " 5   hour        17379 non-null  int64  \n",
      " 6   holiday     17379 non-null  int64  \n",
      " 7   weekday     17379 non-null  int64  \n",
      " 8   workingday  17379 non-null  int64  \n",
      " 9   weather     17379 non-null  int64  \n",
      " 10  temp        17379 non-null  float64\n",
      " 11  atemp       17379 non-null  float64\n",
      " 12  humidity    17379 non-null  float64\n",
      " 13  windspeed   17379 non-null  float64\n",
      " 14  casual      17379 non-null  int64  \n",
      " 15  registered  17379 non-null  int64  \n",
      " 16  count       17379 non-null  int64  \n",
      "dtypes: float64(4), int64(12), object(1)\n",
      "memory usage: 2.3+ MB\n"
     ]
    }
   ],
   "source": [
    "bike_dataset.info()"
   ]
  },
  {
   "cell_type": "code",
   "execution_count": 189,
   "id": "dcdd5527",
   "metadata": {},
   "outputs": [],
   "source": [
    "# bike_dataset['season'] = bike_dataset['season'].map({\n",
    "#     1: 'Spring', 2: 'Summer', 3: 'Fall', 4: 'Winter'\n",
    "# }).astype('O')\n",
    "\n",
    "# bike_dataset['weekday'] = bike_dataset['weekday'].map({\n",
    "#     0: 'Saturday', 1: 'Sunday', 2: 'Monday', 3: 'Tuesday',\n",
    "#     4: 'Wednesday', 5: 'Thursday', 6: 'Friday'\n",
    "# }).astype('O')\n",
    "\n",
    "bike_dataset['year'] = bike_dataset['year'].astype(\"bool\")\n",
    "\n",
    "# bike_dataset['weather'] = bike_dataset['weather'].map({\n",
    "#     1: 'Clear', 2: 'Mist', 3: 'Light Rain', 4: 'Heavy Rain'\n",
    "# }).astype('O')\n",
    "\n",
    "# bike_dataset['hour'] = bike_dataset['hour'].astype('O')\n",
    "# bike_dataset['month'] = bike_dataset['month'].astype('O')\n",
    "bike_dataset['holiday'] = bike_dataset['holiday'].map({1: True, 0: False})\n",
    "bike_dataset['workingday'] = bike_dataset['workingday'].map({1: True, 0: False})\n",
    "bike_dataset['datetime'] = pd.to_datetime(bike_dataset['datetime'])"
   ]
  },
  {
   "cell_type": "code",
   "execution_count": 190,
   "id": "86b2ecf9",
   "metadata": {},
   "outputs": [
    {
     "name": "stdout",
     "output_type": "stream",
     "text": [
      "<class 'pandas.core.frame.DataFrame'>\n",
      "RangeIndex: 17379 entries, 0 to 17378\n",
      "Data columns (total 17 columns):\n",
      " #   Column      Non-Null Count  Dtype         \n",
      "---  ------      --------------  -----         \n",
      " 0   instant     17379 non-null  int64         \n",
      " 1   datetime    17379 non-null  datetime64[ns]\n",
      " 2   season      17379 non-null  int64         \n",
      " 3   year        17379 non-null  bool          \n",
      " 4   month       17379 non-null  int64         \n",
      " 5   hour        17379 non-null  int64         \n",
      " 6   holiday     17379 non-null  bool          \n",
      " 7   weekday     17379 non-null  int64         \n",
      " 8   workingday  17379 non-null  bool          \n",
      " 9   weather     17379 non-null  int64         \n",
      " 10  temp        17379 non-null  float64       \n",
      " 11  atemp       17379 non-null  float64       \n",
      " 12  humidity    17379 non-null  float64       \n",
      " 13  windspeed   17379 non-null  float64       \n",
      " 14  casual      17379 non-null  int64         \n",
      " 15  registered  17379 non-null  int64         \n",
      " 16  count       17379 non-null  int64         \n",
      "dtypes: bool(3), datetime64[ns](1), float64(4), int64(9)\n",
      "memory usage: 1.9 MB\n"
     ]
    }
   ],
   "source": [
    "bike_dataset.info()"
   ]
  },
  {
   "cell_type": "code",
   "execution_count": 191,
   "id": "beb74b36",
   "metadata": {
    "execution": {
     "iopub.execute_input": "2025-05-01T18:24:19.714070Z",
     "iopub.status.busy": "2025-05-01T18:24:19.713768Z",
     "iopub.status.idle": "2025-05-01T18:24:19.765738Z",
     "shell.execute_reply": "2025-05-01T18:24:19.764504Z"
    },
    "papermill": {
     "duration": 0.060933,
     "end_time": "2025-05-01T18:24:19.767599",
     "exception": false,
     "start_time": "2025-05-01T18:24:19.706666",
     "status": "completed"
    },
    "tags": []
   },
   "outputs": [
    {
     "data": {
      "application/vnd.microsoft.datawrangler.viewer.v0+json": {
       "columns": [
        {
         "name": "index",
         "rawType": "object",
         "type": "string"
        },
        {
         "name": "instant",
         "rawType": "float64",
         "type": "float"
        },
        {
         "name": "datetime",
         "rawType": "object",
         "type": "unknown"
        },
        {
         "name": "season",
         "rawType": "float64",
         "type": "float"
        },
        {
         "name": "month",
         "rawType": "float64",
         "type": "float"
        },
        {
         "name": "hour",
         "rawType": "float64",
         "type": "float"
        },
        {
         "name": "weekday",
         "rawType": "float64",
         "type": "float"
        },
        {
         "name": "weather",
         "rawType": "float64",
         "type": "float"
        },
        {
         "name": "temp",
         "rawType": "float64",
         "type": "float"
        },
        {
         "name": "atemp",
         "rawType": "float64",
         "type": "float"
        },
        {
         "name": "humidity",
         "rawType": "float64",
         "type": "float"
        },
        {
         "name": "windspeed",
         "rawType": "float64",
         "type": "float"
        },
        {
         "name": "casual",
         "rawType": "float64",
         "type": "float"
        },
        {
         "name": "registered",
         "rawType": "float64",
         "type": "float"
        },
        {
         "name": "count",
         "rawType": "float64",
         "type": "float"
        }
       ],
       "conversionMethod": "pd.DataFrame",
       "ref": "b275be83-b69b-4c22-888a-b80d51c47cde",
       "rows": [
        [
         "count",
         "17379.0",
         "17379",
         "17379.0",
         "17379.0",
         "17379.0",
         "17379.0",
         "17379.0",
         "17379.0",
         "17379.0",
         "17379.0",
         "17379.0",
         "17379.0",
         "17379.0",
         "17379.0"
        ],
        [
         "mean",
         "8690.0",
         "2012-01-02 04:08:34.552045568",
         "2.5016399102364923",
         "6.537775476149376",
         "11.546751826917545",
         "3.003682605443351",
         "1.425283387997008",
         "0.4969871684216583",
         "0.4757751021347604",
         "0.6272288394038783",
         "0.1900976063064618",
         "35.67621842453536",
         "153.78686920996606",
         "189.46308763450142"
        ],
        [
         "min",
         "1.0",
         "2011-01-01 00:00:00",
         "1.0",
         "1.0",
         "0.0",
         "0.0",
         "1.0",
         "0.02",
         "0.0",
         "0.0",
         "0.0",
         "0.0",
         "0.0",
         "1.0"
        ],
        [
         "25%",
         "4345.5",
         "2011-07-04 00:00:00",
         "2.0",
         "4.0",
         "6.0",
         "1.0",
         "1.0",
         "0.34",
         "0.3333",
         "0.48",
         "0.1045",
         "4.0",
         "34.0",
         "40.0"
        ],
        [
         "50%",
         "8690.0",
         "2012-01-02 00:00:00",
         "3.0",
         "7.0",
         "12.0",
         "3.0",
         "1.0",
         "0.5",
         "0.4848",
         "0.63",
         "0.194",
         "17.0",
         "115.0",
         "142.0"
        ],
        [
         "75%",
         "13034.5",
         "2012-07-02 00:00:00",
         "3.0",
         "10.0",
         "18.0",
         "5.0",
         "2.0",
         "0.66",
         "0.6212",
         "0.78",
         "0.2537",
         "48.0",
         "220.0",
         "281.0"
        ],
        [
         "max",
         "17379.0",
         "2012-12-31 00:00:00",
         "4.0",
         "12.0",
         "23.0",
         "6.0",
         "4.0",
         "1.0",
         "1.0",
         "1.0",
         "0.8507",
         "367.0",
         "886.0",
         "977.0"
        ],
        [
         "std",
         "5017.029499614288",
         null,
         "1.1069181394480763",
         "3.4387757137501653",
         "6.9144050952644935",
         "2.005771456110988",
         "0.6393568777542534",
         "0.1925561212497219",
         "0.17185021563535943",
         "0.19292983406291508",
         "0.12234022857279049",
         "49.30503038705308",
         "151.35728591258314",
         "181.38759909186473"
        ]
       ],
       "shape": {
        "columns": 14,
        "rows": 8
       }
      },
      "text/html": [
       "<div>\n",
       "<style scoped>\n",
       "    .dataframe tbody tr th:only-of-type {\n",
       "        vertical-align: middle;\n",
       "    }\n",
       "\n",
       "    .dataframe tbody tr th {\n",
       "        vertical-align: top;\n",
       "    }\n",
       "\n",
       "    .dataframe thead th {\n",
       "        text-align: right;\n",
       "    }\n",
       "</style>\n",
       "<table border=\"1\" class=\"dataframe\">\n",
       "  <thead>\n",
       "    <tr style=\"text-align: right;\">\n",
       "      <th></th>\n",
       "      <th>instant</th>\n",
       "      <th>datetime</th>\n",
       "      <th>season</th>\n",
       "      <th>month</th>\n",
       "      <th>hour</th>\n",
       "      <th>weekday</th>\n",
       "      <th>weather</th>\n",
       "      <th>temp</th>\n",
       "      <th>atemp</th>\n",
       "      <th>humidity</th>\n",
       "      <th>windspeed</th>\n",
       "      <th>casual</th>\n",
       "      <th>registered</th>\n",
       "      <th>count</th>\n",
       "    </tr>\n",
       "  </thead>\n",
       "  <tbody>\n",
       "    <tr>\n",
       "      <th>count</th>\n",
       "      <td>17379.0000</td>\n",
       "      <td>17379</td>\n",
       "      <td>17379.000000</td>\n",
       "      <td>17379.000000</td>\n",
       "      <td>17379.000000</td>\n",
       "      <td>17379.000000</td>\n",
       "      <td>17379.000000</td>\n",
       "      <td>17379.000000</td>\n",
       "      <td>17379.000000</td>\n",
       "      <td>17379.000000</td>\n",
       "      <td>17379.000000</td>\n",
       "      <td>17379.000000</td>\n",
       "      <td>17379.000000</td>\n",
       "      <td>17379.000000</td>\n",
       "    </tr>\n",
       "    <tr>\n",
       "      <th>mean</th>\n",
       "      <td>8690.0000</td>\n",
       "      <td>2012-01-02 04:08:34.552045568</td>\n",
       "      <td>2.501640</td>\n",
       "      <td>6.537775</td>\n",
       "      <td>11.546752</td>\n",
       "      <td>3.003683</td>\n",
       "      <td>1.425283</td>\n",
       "      <td>0.496987</td>\n",
       "      <td>0.475775</td>\n",
       "      <td>0.627229</td>\n",
       "      <td>0.190098</td>\n",
       "      <td>35.676218</td>\n",
       "      <td>153.786869</td>\n",
       "      <td>189.463088</td>\n",
       "    </tr>\n",
       "    <tr>\n",
       "      <th>min</th>\n",
       "      <td>1.0000</td>\n",
       "      <td>2011-01-01 00:00:00</td>\n",
       "      <td>1.000000</td>\n",
       "      <td>1.000000</td>\n",
       "      <td>0.000000</td>\n",
       "      <td>0.000000</td>\n",
       "      <td>1.000000</td>\n",
       "      <td>0.020000</td>\n",
       "      <td>0.000000</td>\n",
       "      <td>0.000000</td>\n",
       "      <td>0.000000</td>\n",
       "      <td>0.000000</td>\n",
       "      <td>0.000000</td>\n",
       "      <td>1.000000</td>\n",
       "    </tr>\n",
       "    <tr>\n",
       "      <th>25%</th>\n",
       "      <td>4345.5000</td>\n",
       "      <td>2011-07-04 00:00:00</td>\n",
       "      <td>2.000000</td>\n",
       "      <td>4.000000</td>\n",
       "      <td>6.000000</td>\n",
       "      <td>1.000000</td>\n",
       "      <td>1.000000</td>\n",
       "      <td>0.340000</td>\n",
       "      <td>0.333300</td>\n",
       "      <td>0.480000</td>\n",
       "      <td>0.104500</td>\n",
       "      <td>4.000000</td>\n",
       "      <td>34.000000</td>\n",
       "      <td>40.000000</td>\n",
       "    </tr>\n",
       "    <tr>\n",
       "      <th>50%</th>\n",
       "      <td>8690.0000</td>\n",
       "      <td>2012-01-02 00:00:00</td>\n",
       "      <td>3.000000</td>\n",
       "      <td>7.000000</td>\n",
       "      <td>12.000000</td>\n",
       "      <td>3.000000</td>\n",
       "      <td>1.000000</td>\n",
       "      <td>0.500000</td>\n",
       "      <td>0.484800</td>\n",
       "      <td>0.630000</td>\n",
       "      <td>0.194000</td>\n",
       "      <td>17.000000</td>\n",
       "      <td>115.000000</td>\n",
       "      <td>142.000000</td>\n",
       "    </tr>\n",
       "    <tr>\n",
       "      <th>75%</th>\n",
       "      <td>13034.5000</td>\n",
       "      <td>2012-07-02 00:00:00</td>\n",
       "      <td>3.000000</td>\n",
       "      <td>10.000000</td>\n",
       "      <td>18.000000</td>\n",
       "      <td>5.000000</td>\n",
       "      <td>2.000000</td>\n",
       "      <td>0.660000</td>\n",
       "      <td>0.621200</td>\n",
       "      <td>0.780000</td>\n",
       "      <td>0.253700</td>\n",
       "      <td>48.000000</td>\n",
       "      <td>220.000000</td>\n",
       "      <td>281.000000</td>\n",
       "    </tr>\n",
       "    <tr>\n",
       "      <th>max</th>\n",
       "      <td>17379.0000</td>\n",
       "      <td>2012-12-31 00:00:00</td>\n",
       "      <td>4.000000</td>\n",
       "      <td>12.000000</td>\n",
       "      <td>23.000000</td>\n",
       "      <td>6.000000</td>\n",
       "      <td>4.000000</td>\n",
       "      <td>1.000000</td>\n",
       "      <td>1.000000</td>\n",
       "      <td>1.000000</td>\n",
       "      <td>0.850700</td>\n",
       "      <td>367.000000</td>\n",
       "      <td>886.000000</td>\n",
       "      <td>977.000000</td>\n",
       "    </tr>\n",
       "    <tr>\n",
       "      <th>std</th>\n",
       "      <td>5017.0295</td>\n",
       "      <td>NaN</td>\n",
       "      <td>1.106918</td>\n",
       "      <td>3.438776</td>\n",
       "      <td>6.914405</td>\n",
       "      <td>2.005771</td>\n",
       "      <td>0.639357</td>\n",
       "      <td>0.192556</td>\n",
       "      <td>0.171850</td>\n",
       "      <td>0.192930</td>\n",
       "      <td>0.122340</td>\n",
       "      <td>49.305030</td>\n",
       "      <td>151.357286</td>\n",
       "      <td>181.387599</td>\n",
       "    </tr>\n",
       "  </tbody>\n",
       "</table>\n",
       "</div>"
      ],
      "text/plain": [
       "          instant                       datetime        season         month  \\\n",
       "count  17379.0000                          17379  17379.000000  17379.000000   \n",
       "mean    8690.0000  2012-01-02 04:08:34.552045568      2.501640      6.537775   \n",
       "min        1.0000            2011-01-01 00:00:00      1.000000      1.000000   \n",
       "25%     4345.5000            2011-07-04 00:00:00      2.000000      4.000000   \n",
       "50%     8690.0000            2012-01-02 00:00:00      3.000000      7.000000   \n",
       "75%    13034.5000            2012-07-02 00:00:00      3.000000     10.000000   \n",
       "max    17379.0000            2012-12-31 00:00:00      4.000000     12.000000   \n",
       "std     5017.0295                            NaN      1.106918      3.438776   \n",
       "\n",
       "               hour       weekday       weather          temp         atemp  \\\n",
       "count  17379.000000  17379.000000  17379.000000  17379.000000  17379.000000   \n",
       "mean      11.546752      3.003683      1.425283      0.496987      0.475775   \n",
       "min        0.000000      0.000000      1.000000      0.020000      0.000000   \n",
       "25%        6.000000      1.000000      1.000000      0.340000      0.333300   \n",
       "50%       12.000000      3.000000      1.000000      0.500000      0.484800   \n",
       "75%       18.000000      5.000000      2.000000      0.660000      0.621200   \n",
       "max       23.000000      6.000000      4.000000      1.000000      1.000000   \n",
       "std        6.914405      2.005771      0.639357      0.192556      0.171850   \n",
       "\n",
       "           humidity     windspeed        casual    registered         count  \n",
       "count  17379.000000  17379.000000  17379.000000  17379.000000  17379.000000  \n",
       "mean       0.627229      0.190098     35.676218    153.786869    189.463088  \n",
       "min        0.000000      0.000000      0.000000      0.000000      1.000000  \n",
       "25%        0.480000      0.104500      4.000000     34.000000     40.000000  \n",
       "50%        0.630000      0.194000     17.000000    115.000000    142.000000  \n",
       "75%        0.780000      0.253700     48.000000    220.000000    281.000000  \n",
       "max        1.000000      0.850700    367.000000    886.000000    977.000000  \n",
       "std        0.192930      0.122340     49.305030    151.357286    181.387599  "
      ]
     },
     "execution_count": 191,
     "metadata": {},
     "output_type": "execute_result"
    }
   ],
   "source": [
    "bike_dataset.describe()"
   ]
  },
  {
   "cell_type": "code",
   "execution_count": 192,
   "id": "64f554d1",
   "metadata": {},
   "outputs": [],
   "source": [
    "bike_dataset.drop(columns=[\"instant\"],inplace=True)"
   ]
  },
  {
   "cell_type": "code",
   "execution_count": 193,
   "id": "746f172c",
   "metadata": {
    "execution": {
     "iopub.execute_input": "2025-05-01T18:24:19.804813Z",
     "iopub.status.busy": "2025-05-01T18:24:19.804442Z",
     "iopub.status.idle": "2025-05-01T18:24:19.809727Z",
     "shell.execute_reply": "2025-05-01T18:24:19.808675Z"
    },
    "papermill": {
     "duration": 0.014496,
     "end_time": "2025-05-01T18:24:19.811351",
     "exception": false,
     "start_time": "2025-05-01T18:24:19.796855",
     "status": "completed"
    },
    "tags": []
   },
   "outputs": [
    {
     "name": "stdout",
     "output_type": "stream",
     "text": [
      "16\n"
     ]
    }
   ],
   "source": [
    "print(len(bike_dataset.columns))\n"
   ]
  },
  {
   "cell_type": "code",
   "execution_count": 194,
   "id": "c73fd95f",
   "metadata": {
    "execution": {
     "iopub.execute_input": "2025-05-01T18:24:19.824442Z",
     "iopub.status.busy": "2025-05-01T18:24:19.824100Z",
     "iopub.status.idle": "2025-05-01T18:24:20.948686Z",
     "shell.execute_reply": "2025-05-01T18:24:20.947640Z"
    },
    "papermill": {
     "duration": 1.13555,
     "end_time": "2025-05-01T18:24:20.952994",
     "exception": false,
     "start_time": "2025-05-01T18:24:19.817444",
     "status": "completed"
    },
    "tags": []
   },
   "outputs": [
    {
     "data": {
      "image/png": "[encoded data removed]",
      "text/plain": [
       "<Figure size 1500x1500 with 2 Axes>"
      ]
     },
     "metadata": {},
     "output_type": "display_data"
    }
   ],
   "source": [
    "numeric_data = bike_dataset.select_dtypes(include=['int64', 'float64'])\n",
    "correlation_values = numeric_data.corr()\n",
    "plt.figure(figsize=(15,15))\n",
    "sns.heatmap(correlation_values,cbar=True,square=True,annot=True,annot_kws={'size':8},cmap='Greens')\n",
    "plt.show() \n"
   ]
  },
  {
   "cell_type": "code",
   "execution_count": 195,
   "id": "24e4438c",
   "metadata": {
    "execution": {
     "iopub.execute_input": "2025-05-01T18:24:20.975266Z",
     "iopub.status.busy": "2025-05-01T18:24:20.974251Z",
     "iopub.status.idle": "2025-05-01T18:24:22.595129Z",
     "shell.execute_reply": "2025-05-01T18:24:22.593746Z"
    },
    "papermill": {
     "duration": 1.634389,
     "end_time": "2025-05-01T18:24:22.597773",
     "exception": false,
     "start_time": "2025-05-01T18:24:20.963384",
     "status": "completed"
    },
    "tags": []
   },
   "outputs": [
    {
     "data": {
      "image/png": "[encoded data removed]",
      "text/plain": [
       "<Figure size 1800x1200 with 7 Axes>"
      ]
     },
     "metadata": {},
     "output_type": "display_data"
    }
   ],
   "source": [
    "numeric_cols = ['temp', 'atemp', 'humidity', 'windspeed', 'casual', 'registered', 'count']\n",
    "\n",
    "plt.figure(figsize=(18, 12))\n",
    "\n",
    "for i, col in enumerate(numeric_cols, 1):\n",
    "    plt.subplot(3, 3, i)\n",
    "    sns.boxplot(x=bike_dataset[col], color='skyblue')\n",
    "    plt.title(f'Boxplot for {col}')\n",
    "    plt.xlabel(col)\n",
    "\n",
    "plt.tight_layout()\n",
    "plt.show()\n"
   ]
  },
  {
   "cell_type": "code",
   "execution_count": 196,
   "id": "12355766",
   "metadata": {
    "execution": {
     "iopub.execute_input": "2025-05-01T18:24:22.622854Z",
     "iopub.status.busy": "2025-05-01T18:24:22.622542Z",
     "iopub.status.idle": "2025-05-01T18:24:22.635602Z",
     "shell.execute_reply": "2025-05-01T18:24:22.634460Z"
    },
    "papermill": {
     "duration": 0.02762,
     "end_time": "2025-05-01T18:24:22.637440",
     "exception": false,
     "start_time": "2025-05-01T18:24:22.609820",
     "status": "completed"
    },
    "tags": []
   },
   "outputs": [],
   "source": [
    "#check outlier\n",
    "numeric_cols = bike_dataset.select_dtypes(include=['int64', 'float64']).columns\n",
    "Q1 = bike_dataset['count'].quantile(0.10)\n",
    "Q3 = bike_dataset['count'].quantile(0.85)\n",
    "IQR = Q3 - Q1\n",
    "lower_bound = Q1 - 1.5 * IQR\n",
    "upper_bound = Q3 + 1.5 * IQR\n",
    "outliers = bike_dataset[(bike_dataset['count'] < lower_bound) | (bike_dataset['count'] > upper_bound)]\n",
    "# outliers.style.background_gradient(cmap='Greys')"
   ]
  },
  {
   "cell_type": "code",
   "execution_count": 197,
   "id": "e6abcb6c",
   "metadata": {
    "execution": {
     "iopub.execute_input": "2025-05-01T18:24:22.660709Z",
     "iopub.status.busy": "2025-05-01T18:24:22.660220Z",
     "iopub.status.idle": "2025-05-01T18:24:22.850151Z",
     "shell.execute_reply": "2025-05-01T18:24:22.849067Z"
    },
    "papermill": {
     "duration": 0.203126,
     "end_time": "2025-05-01T18:24:22.851868",
     "exception": false,
     "start_time": "2025-05-01T18:24:22.648742",
     "status": "completed"
    },
    "tags": []
   },
   "outputs": [
    {
     "data": {
      "image/png": "[encoded data removed]",
      "text/plain": [
       "<Figure size 1000x500 with 1 Axes>"
      ]
     },
     "metadata": {},
     "output_type": "display_data"
    }
   ],
   "source": [
    "plt.figure(figsize=(10, 5))\n",
    "sns.boxplot(x=bike_dataset['count'], color='skyblue')\n",
    "plt.title('Boxplot to Detect Outliers in Count')\n",
    "plt.xlabel('count')\n",
    "plt.show()"
   ]
  },
  {
   "cell_type": "code",
   "execution_count": 198,
   "id": "93a93414",
   "metadata": {
    "execution": {
     "iopub.execute_input": "2025-05-01T18:24:22.876746Z",
     "iopub.status.busy": "2025-05-01T18:24:22.876268Z",
     "iopub.status.idle": "2025-05-01T18:24:22.885405Z",
     "shell.execute_reply": "2025-05-01T18:24:22.884238Z"
    },
    "papermill": {
     "duration": 0.023833,
     "end_time": "2025-05-01T18:24:22.887026",
     "exception": false,
     "start_time": "2025-05-01T18:24:22.863193",
     "status": "completed"
    },
    "tags": []
   },
   "outputs": [
    {
     "name": "stdout",
     "output_type": "stream",
     "text": [
      "shape after outliers removal : (17367, 16)\n"
     ]
    }
   ],
   "source": [
    "#removing outliers\n",
    "bike_dataset = bike_dataset[(bike_dataset['count'] >= lower_bound) & (bike_dataset['count'] <= upper_bound)]\n",
    "print(\"shape after outliers removal :\",bike_dataset.shape)\n",
    "#17,099 rows from ~17,379 → 280 rows removed"
   ]
  },
  {
   "cell_type": "code",
   "execution_count": 199,
   "id": "cdf92e62",
   "metadata": {
    "execution": {
     "iopub.execute_input": "2025-05-01T18:24:22.912061Z",
     "iopub.status.busy": "2025-05-01T18:24:22.911166Z",
     "iopub.status.idle": "2025-05-01T18:24:23.092430Z",
     "shell.execute_reply": "2025-05-01T18:24:23.091466Z"
    },
    "papermill": {
     "duration": 0.195809,
     "end_time": "2025-05-01T18:24:23.094102",
     "exception": false,
     "start_time": "2025-05-01T18:24:22.898293",
     "status": "completed"
    },
    "tags": []
   },
   "outputs": [
    {
     "data": {
      "image/png": "[encoded data removed]",
      "text/plain": [
       "<Figure size 1000x500 with 1 Axes>"
      ]
     },
     "metadata": {},
     "output_type": "display_data"
    }
   ],
   "source": [
    " plt.figure(figsize=(10, 5))\n",
    " sns.boxplot(x=bike_dataset['count'], color='skyblue')\n",
    " plt.title('Boxplot after removing outliers')\n",
    " plt.xlabel('count')\n",
    " plt.show()"
   ]
  },
  {
   "cell_type": "code",
   "execution_count": 200,
   "id": "35766365",
   "metadata": {
    "execution": {
     "iopub.execute_input": "2025-05-01T18:24:23.121334Z",
     "iopub.status.busy": "2025-05-01T18:24:23.120991Z",
     "iopub.status.idle": "2025-05-01T18:24:23.307471Z",
     "shell.execute_reply": "2025-05-01T18:24:23.306459Z"
    },
    "papermill": {
     "duration": 0.201671,
     "end_time": "2025-05-01T18:24:23.309218",
     "exception": false,
     "start_time": "2025-05-01T18:24:23.107547",
     "status": "completed"
    },
    "tags": []
   },
   "outputs": [
    {
     "data": {
      "image/png": "[encoded data removed]",
      "text/plain": [
       "<Figure size 1000x500 with 1 Axes>"
      ]
     },
     "metadata": {},
     "output_type": "display_data"
    }
   ],
   "source": [
    " plt.figure(figsize=(10, 5))\n",
    " sns.boxplot(x=bike_dataset['registered'], color='skyblue')\n",
    " plt.title('Boxplot to Detect Outliers in registered')\n",
    " plt.xlabel('registered')\n",
    " plt.show()"
   ]
  },
  {
   "cell_type": "code",
   "execution_count": 201,
   "id": "3e1bc943",
   "metadata": {
    "execution": {
     "iopub.execute_input": "2025-05-01T18:24:23.333873Z",
     "iopub.status.busy": "2025-05-01T18:24:23.333064Z",
     "iopub.status.idle": "2025-05-01T18:24:23.343314Z",
     "shell.execute_reply": "2025-05-01T18:24:23.342445Z"
    },
    "papermill": {
     "duration": 0.024289,
     "end_time": "2025-05-01T18:24:23.345082",
     "exception": false,
     "start_time": "2025-05-01T18:24:23.320793",
     "status": "completed"
    },
    "tags": []
   },
   "outputs": [],
   "source": [
    "\n",
    "Q1 = bike_dataset['registered'].quantile(0.25)\n",
    "Q3 = bike_dataset['registered'].quantile(0.80)\n",
    "IQR = Q3 - Q1\n",
    "\n",
    "\n",
    "lower_bound = Q1 - 1.5 * IQR\n",
    "upper_bound = Q3 + 1.5 * IQR\n",
    "\n",
    "\n",
    "outliers = bike_dataset[(bike_dataset['registered'] >= lower_bound) & (bike_dataset['registered'] <= upper_bound)]\n"
   ]
  },
  {
   "cell_type": "code",
   "execution_count": 202,
   "id": "c452dbe6",
   "metadata": {
    "execution": {
     "iopub.execute_input": "2025-05-01T18:24:23.371159Z",
     "iopub.status.busy": "2025-05-01T18:24:23.370849Z",
     "iopub.status.idle": "2025-05-01T18:24:23.378920Z",
     "shell.execute_reply": "2025-05-01T18:24:23.377807Z"
    },
    "papermill": {
     "duration": 0.023151,
     "end_time": "2025-05-01T18:24:23.380478",
     "exception": false,
     "start_time": "2025-05-01T18:24:23.357327",
     "status": "completed"
    },
    "tags": []
   },
   "outputs": [
    {
     "name": "stdout",
     "output_type": "stream",
     "text": [
      "shape after outliers removal : (16930, 16)\n"
     ]
    }
   ],
   "source": [
    "bike_dataset = bike_dataset[(bike_dataset['registered'] >= lower_bound) & (bike_dataset['registered'] <= upper_bound)]\n",
    "print(\"shape after outliers removal :\",bike_dataset.shape)"
   ]
  },
  {
   "cell_type": "code",
   "execution_count": 203,
   "id": "27118267",
   "metadata": {
    "execution": {
     "iopub.execute_input": "2025-05-01T18:24:23.404972Z",
     "iopub.status.busy": "2025-05-01T18:24:23.404625Z",
     "iopub.status.idle": "2025-05-01T18:24:23.586205Z",
     "shell.execute_reply": "2025-05-01T18:24:23.585103Z"
    },
    "papermill": {
     "duration": 0.196118,
     "end_time": "2025-05-01T18:24:23.588041",
     "exception": false,
     "start_time": "2025-05-01T18:24:23.391923",
     "status": "completed"
    },
    "tags": []
   },
   "outputs": [
    {
     "data": {
      "image/png": "[encoded data removed]",
      "text/plain": [
       "<Figure size 1000x500 with 1 Axes>"
      ]
     },
     "metadata": {},
     "output_type": "display_data"
    }
   ],
   "source": [
    " plt.figure(figsize=(10, 5))\n",
    " sns.boxplot(x=bike_dataset['registered'], color='skyblue')\n",
    " plt.title('Boxplot after removing outliers')\n",
    " plt.xlabel('registered')\n",
    " plt.show()"
   ]
  },
  {
   "cell_type": "code",
   "execution_count": 204,
   "id": "4b98df58",
   "metadata": {
    "execution": {
     "iopub.execute_input": "2025-05-01T18:24:23.614479Z",
     "iopub.status.busy": "2025-05-01T18:24:23.614144Z",
     "iopub.status.idle": "2025-05-01T18:24:23.818015Z",
     "shell.execute_reply": "2025-05-01T18:24:23.816963Z"
    },
    "papermill": {
     "duration": 0.218212,
     "end_time": "2025-05-01T18:24:23.819646",
     "exception": false,
     "start_time": "2025-05-01T18:24:23.601434",
     "status": "completed"
    },
    "tags": []
   },
   "outputs": [
    {
     "data": {
      "image/png": "[encoded data removed]",
      "text/plain": [
       "<Figure size 1000x500 with 1 Axes>"
      ]
     },
     "metadata": {},
     "output_type": "display_data"
    }
   ],
   "source": [
    " plt.figure(figsize=(10, 5))\n",
    " sns.boxplot(x=bike_dataset['casual'], color='skyblue')\n",
    " plt.title('Boxplot to Detect Outliers in casual')\n",
    " plt.xlabel('casual')\n",
    " plt.show()"
   ]
  },
  {
   "cell_type": "code",
   "execution_count": 205,
   "id": "ccb04f5f",
   "metadata": {
    "execution": {
     "iopub.execute_input": "2025-05-01T18:24:23.845300Z",
     "iopub.status.busy": "2025-05-01T18:24:23.844988Z",
     "iopub.status.idle": "2025-05-01T18:24:23.854607Z",
     "shell.execute_reply": "2025-05-01T18:24:23.853716Z"
    },
    "papermill": {
     "duration": 0.024498,
     "end_time": "2025-05-01T18:24:23.856229",
     "exception": false,
     "start_time": "2025-05-01T18:24:23.831731",
     "status": "completed"
    },
    "tags": []
   },
   "outputs": [],
   "source": [
    " Q1 = bike_dataset['casual'].quantile(0.15)\n",
    "Q3 = bike_dataset['casual'].quantile(0.85)\n",
    "IQR = Q3 - Q1\n",
    "\n",
    "\n",
    "lower_bound = Q1 - 1.5 * IQR\n",
    "upper_bound = Q3 + 1.5 * IQR\n",
    "\n",
    "\n",
    "outliers = bike_dataset[(bike_dataset['casual'] >= lower_bound) & (bike_dataset['casual'] <= upper_bound)]\n"
   ]
  },
  {
   "cell_type": "code",
   "execution_count": 206,
   "id": "2ceb11a3",
   "metadata": {
    "execution": {
     "iopub.execute_input": "2025-05-01T18:24:23.882054Z",
     "iopub.status.busy": "2025-05-01T18:24:23.881734Z",
     "iopub.status.idle": "2025-05-01T18:24:23.889638Z",
     "shell.execute_reply": "2025-05-01T18:24:23.888621Z"
    },
    "papermill": {
     "duration": 0.022926,
     "end_time": "2025-05-01T18:24:23.891216",
     "exception": false,
     "start_time": "2025-05-01T18:24:23.868290",
     "status": "completed"
    },
    "tags": []
   },
   "outputs": [
    {
     "name": "stdout",
     "output_type": "stream",
     "text": [
      "shape after outliers removal : (16364, 16)\n"
     ]
    }
   ],
   "source": [
    " bike_dataset = bike_dataset[(bike_dataset['casual'] >= lower_bound) & (bike_dataset['casual'] <= upper_bound)]\n",
    " print(\"shape after outliers removal :\",bike_dataset.shape)"
   ]
  },
  {
   "cell_type": "code",
   "execution_count": 207,
   "id": "565a7b71",
   "metadata": {
    "execution": {
     "iopub.execute_input": "2025-05-01T18:24:23.917009Z",
     "iopub.status.busy": "2025-05-01T18:24:23.916700Z",
     "iopub.status.idle": "2025-05-01T18:24:24.125761Z",
     "shell.execute_reply": "2025-05-01T18:24:24.124755Z"
    },
    "papermill": {
     "duration": 0.223745,
     "end_time": "2025-05-01T18:24:24.127430",
     "exception": false,
     "start_time": "2025-05-01T18:24:23.903685",
     "status": "completed"
    },
    "tags": []
   },
   "outputs": [
    {
     "data": {
      "image/png": "[encoded data removed]",
      "text/plain": [
       "<Figure size 1000x500 with 1 Axes>"
      ]
     },
     "metadata": {},
     "output_type": "display_data"
    }
   ],
   "source": [
    " plt.figure(figsize=(10, 5))\n",
    " sns.boxplot(x=bike_dataset['casual'], color='skyblue')\n",
    " plt.title('Boxplot after removing outliers')\n",
    " plt.xlabel('casual')\n",
    " plt.show()"
   ]
  },
  {
   "cell_type": "code",
   "execution_count": 208,
   "id": "5404193a",
   "metadata": {
    "execution": {
     "iopub.execute_input": "2025-05-01T18:24:24.154797Z",
     "iopub.status.busy": "2025-05-01T18:24:24.154461Z",
     "iopub.status.idle": "2025-05-01T18:24:24.348563Z",
     "shell.execute_reply": "2025-05-01T18:24:24.347622Z"
    },
    "papermill": {
     "duration": 0.210189,
     "end_time": "2025-05-01T18:24:24.350283",
     "exception": false,
     "start_time": "2025-05-01T18:24:24.140094",
     "status": "completed"
    },
    "tags": []
   },
   "outputs": [
    {
     "data": {
      "image/png": "[encoded data removed]",
      "text/plain": [
       "<Figure size 1000x500 with 1 Axes>"
      ]
     },
     "metadata": {},
     "output_type": "display_data"
    }
   ],
   "source": [
    "plt.figure(figsize=(10, 5))\n",
    "sns.boxplot(x=bike_dataset['windspeed'], color='skyblue')\n",
    "plt.title('Boxplot to Detect Outliers in windspeed')\n",
    "plt.xlabel('windspeed')\n",
    "plt.show()\n",
    "\n"
   ]
  },
  {
   "cell_type": "code",
   "execution_count": 209,
   "id": "b525b500",
   "metadata": {
    "execution": {
     "iopub.execute_input": "2025-05-01T18:24:24.384036Z",
     "iopub.status.busy": "2025-05-01T18:24:24.383714Z",
     "iopub.status.idle": "2025-05-01T18:24:24.389955Z",
     "shell.execute_reply": "2025-05-01T18:24:24.388759Z"
    },
    "papermill": {
     "duration": 0.025508,
     "end_time": "2025-05-01T18:24:24.391892",
     "exception": false,
     "start_time": "2025-05-01T18:24:24.366384",
     "status": "completed"
    },
    "tags": []
   },
   "outputs": [],
   "source": [
    "def remove_outliers_iteratively(bike_dataset):\n",
    "    prev_shape = None\n",
    "    while prev_shape != bike_dataset.shape:\n",
    "        prev_shape = bike_dataset.shape\n",
    "        Q1 = bike_dataset['windspeed'].quantile(0.20)\n",
    "        Q3 = bike_dataset['windspeed'].quantile(0.80)\n",
    "        IQR = Q3 - Q1\n",
    "        lower = Q1 - 1.5 * IQR\n",
    "        upper = Q3 + 1.5 * IQR\n",
    "        bike_dataset = bike_dataset[\n",
    "            (bike_dataset['windspeed'] >= lower) & \n",
    "            (bike_dataset['windspeed'] <= upper)\n",
    "        ]\n",
    "    return bike_dataset"
   ]
  },
  {
   "cell_type": "code",
   "execution_count": 210,
   "id": "8085dec1",
   "metadata": {
    "execution": {
     "iopub.execute_input": "2025-05-01T18:24:24.423035Z",
     "iopub.status.busy": "2025-05-01T18:24:24.422383Z",
     "iopub.status.idle": "2025-05-01T18:24:24.436922Z",
     "shell.execute_reply": "2025-05-01T18:24:24.435479Z"
    },
    "papermill": {
     "duration": 0.032106,
     "end_time": "2025-05-01T18:24:24.438582",
     "exception": false,
     "start_time": "2025-05-01T18:24:24.406476",
     "status": "completed"
    },
    "tags": []
   },
   "outputs": [
    {
     "name": "stdout",
     "output_type": "stream",
     "text": [
      "shape after outliers removal : (16259, 16)\n"
     ]
    }
   ],
   "source": [
    "bike_dataset = remove_outliers_iteratively(bike_dataset)\n",
    "print(\"shape after outliers removal :\",bike_dataset.shape)"
   ]
  },
  {
   "cell_type": "code",
   "execution_count": 211,
   "id": "231ff9cd",
   "metadata": {
    "execution": {
     "iopub.execute_input": "2025-05-01T18:24:24.471823Z",
     "iopub.status.busy": "2025-05-01T18:24:24.471478Z",
     "iopub.status.idle": "2025-05-01T18:24:24.684055Z",
     "shell.execute_reply": "2025-05-01T18:24:24.682325Z"
    },
    "papermill": {
     "duration": 0.231203,
     "end_time": "2025-05-01T18:24:24.685891",
     "exception": false,
     "start_time": "2025-05-01T18:24:24.454688",
     "status": "completed"
    },
    "tags": []
   },
   "outputs": [
    {
     "data": {
      "image/png": "[encoded data removed]",
      "text/plain": [
       "<Figure size 1000x500 with 1 Axes>"
      ]
     },
     "metadata": {},
     "output_type": "display_data"
    }
   ],
   "source": [
    " plt.figure(figsize=(10, 5))\n",
    " sns.boxplot(x=bike_dataset['windspeed'], color='skyblue')\n",
    " plt.title('Boxplot after removing outliers')\n",
    " plt.xlabel('windspeed')\n",
    " plt.show()"
   ]
  },
  {
   "cell_type": "code",
   "execution_count": 212,
   "id": "c8048c99",
   "metadata": {
    "execution": {
     "iopub.execute_input": "2025-05-01T18:24:24.716505Z",
     "iopub.status.busy": "2025-05-01T18:24:24.716123Z",
     "iopub.status.idle": "2025-05-01T18:24:25.114457Z",
     "shell.execute_reply": "2025-05-01T18:24:25.113447Z"
    },
    "papermill": {
     "duration": 0.416297,
     "end_time": "2025-05-01T18:24:25.116572",
     "exception": false,
     "start_time": "2025-05-01T18:24:24.700275",
     "status": "completed"
    },
    "tags": []
   },
   "outputs": [
    {
     "data": {
      "text/html": [
       "<style type=\"text/css\">\n",
       "#T_784c8_row0_col1, #T_784c8_row0_col3, #T_784c8_row0_col4, #T_784c8_row0_col6, #T_784c8_row0_col8, #T_784c8_row0_col12, #T_784c8_row0_col16, #T_784c8_row1_col1, #T_784c8_row1_col3, #T_784c8_row1_col6, #T_784c8_row1_col8, #T_784c8_row1_col9, #T_784c8_row1_col10, #T_784c8_row1_col12, #T_784c8_row1_col16, #T_784c8_row2_col1, #T_784c8_row2_col3, #T_784c8_row2_col6, #T_784c8_row2_col8, #T_784c8_row2_col9, #T_784c8_row2_col10, #T_784c8_row2_col12, #T_784c8_row2_col16, #T_784c8_row3_col1, #T_784c8_row3_col3, #T_784c8_row3_col6, #T_784c8_row3_col8, #T_784c8_row3_col11, #T_784c8_row3_col12, #T_784c8_row3_col16, #T_784c8_row4_col1, #T_784c8_row4_col3, #T_784c8_row4_col6, #T_784c8_row4_col8, #T_784c8_row4_col11, #T_784c8_row4_col12, #T_784c8_row4_col13, #T_784c8_row4_col14, #T_784c8_row4_col15, #T_784c8_row4_col16 {\n",
       "  background-color: #f7fcf5;\n",
       "  color: #000000;\n",
       "}\n",
       "#T_784c8_row0_col9, #T_784c8_row0_col10, #T_784c8_row0_col11, #T_784c8_row1_col13, #T_784c8_row1_col14, #T_784c8_row1_col15, #T_784c8_row3_col9, #T_784c8_row3_col10, #T_784c8_row4_col4, #T_784c8_row4_col9, #T_784c8_row4_col10 {\n",
       "  background-color: #00441b;\n",
       "  color: #f1f1f1;\n",
       "}\n",
       "#T_784c8_row0_col13, #T_784c8_row3_col13 {\n",
       "  background-color: #a0d99b;\n",
       "  color: #000000;\n",
       "}\n",
       "#T_784c8_row0_col14 {\n",
       "  background-color: #9cd797;\n",
       "  color: #000000;\n",
       "}\n",
       "#T_784c8_row0_col15 {\n",
       "  background-color: #9ed798;\n",
       "  color: #000000;\n",
       "}\n",
       "#T_784c8_row1_col4 {\n",
       "  background-color: #c7e9c0;\n",
       "  color: #000000;\n",
       "}\n",
       "#T_784c8_row1_col11, #T_784c8_row2_col11 {\n",
       "  background-color: #0b7734;\n",
       "  color: #f1f1f1;\n",
       "}\n",
       "#T_784c8_row2_col4 {\n",
       "  background-color: #73c476;\n",
       "  color: #000000;\n",
       "}\n",
       "#T_784c8_row2_col13 {\n",
       "  background-color: #40aa5d;\n",
       "  color: #f1f1f1;\n",
       "}\n",
       "#T_784c8_row2_col14 {\n",
       "  background-color: #0a7633;\n",
       "  color: #f1f1f1;\n",
       "}\n",
       "#T_784c8_row2_col15 {\n",
       "  background-color: #16803c;\n",
       "  color: #f1f1f1;\n",
       "}\n",
       "#T_784c8_row3_col4 {\n",
       "  background-color: #228a44;\n",
       "  color: #f1f1f1;\n",
       "}\n",
       "#T_784c8_row3_col14 {\n",
       "  background-color: #bbe4b4;\n",
       "  color: #000000;\n",
       "}\n",
       "#T_784c8_row3_col15 {\n",
       "  background-color: #b6e2af;\n",
       "  color: #000000;\n",
       "}\n",
       "</style>\n",
       "<table id=\"T_784c8\">\n",
       "  <thead>\n",
       "    <tr>\n",
       "      <th class=\"blank level0\" >&nbsp;</th>\n",
       "      <th id=\"T_784c8_level0_col0\" class=\"col_heading level0 col0\" >datetime</th>\n",
       "      <th id=\"T_784c8_level0_col1\" class=\"col_heading level0 col1\" >season</th>\n",
       "      <th id=\"T_784c8_level0_col2\" class=\"col_heading level0 col2\" >year</th>\n",
       "      <th id=\"T_784c8_level0_col3\" class=\"col_heading level0 col3\" >month</th>\n",
       "      <th id=\"T_784c8_level0_col4\" class=\"col_heading level0 col4\" >hour</th>\n",
       "      <th id=\"T_784c8_level0_col5\" class=\"col_heading level0 col5\" >holiday</th>\n",
       "      <th id=\"T_784c8_level0_col6\" class=\"col_heading level0 col6\" >weekday</th>\n",
       "      <th id=\"T_784c8_level0_col7\" class=\"col_heading level0 col7\" >workingday</th>\n",
       "      <th id=\"T_784c8_level0_col8\" class=\"col_heading level0 col8\" >weather</th>\n",
       "      <th id=\"T_784c8_level0_col9\" class=\"col_heading level0 col9\" >temp</th>\n",
       "      <th id=\"T_784c8_level0_col10\" class=\"col_heading level0 col10\" >atemp</th>\n",
       "      <th id=\"T_784c8_level0_col11\" class=\"col_heading level0 col11\" >humidity</th>\n",
       "      <th id=\"T_784c8_level0_col12\" class=\"col_heading level0 col12\" >windspeed</th>\n",
       "      <th id=\"T_784c8_level0_col13\" class=\"col_heading level0 col13\" >casual</th>\n",
       "      <th id=\"T_784c8_level0_col14\" class=\"col_heading level0 col14\" >registered</th>\n",
       "      <th id=\"T_784c8_level0_col15\" class=\"col_heading level0 col15\" >count</th>\n",
       "      <th id=\"T_784c8_level0_col16\" class=\"col_heading level0 col16\" >rush_hour</th>\n",
       "    </tr>\n",
       "  </thead>\n",
       "  <tbody>\n",
       "    <tr>\n",
       "      <th id=\"T_784c8_level0_row0\" class=\"row_heading level0 row0\" >0</th>\n",
       "      <td id=\"T_784c8_row0_col0\" class=\"data row0 col0\" >2011-01-01 00:00:00</td>\n",
       "      <td id=\"T_784c8_row0_col1\" class=\"data row0 col1\" >1</td>\n",
       "      <td id=\"T_784c8_row0_col2\" class=\"data row0 col2\" >False</td>\n",
       "      <td id=\"T_784c8_row0_col3\" class=\"data row0 col3\" >1</td>\n",
       "      <td id=\"T_784c8_row0_col4\" class=\"data row0 col4\" >0</td>\n",
       "      <td id=\"T_784c8_row0_col5\" class=\"data row0 col5\" >False</td>\n",
       "      <td id=\"T_784c8_row0_col6\" class=\"data row0 col6\" >6</td>\n",
       "      <td id=\"T_784c8_row0_col7\" class=\"data row0 col7\" >False</td>\n",
       "      <td id=\"T_784c8_row0_col8\" class=\"data row0 col8\" >1</td>\n",
       "      <td id=\"T_784c8_row0_col9\" class=\"data row0 col9\" >0.240000</td>\n",
       "      <td id=\"T_784c8_row0_col10\" class=\"data row0 col10\" >0.287900</td>\n",
       "      <td id=\"T_784c8_row0_col11\" class=\"data row0 col11\" >0.810000</td>\n",
       "      <td id=\"T_784c8_row0_col12\" class=\"data row0 col12\" >0.000000</td>\n",
       "      <td id=\"T_784c8_row0_col13\" class=\"data row0 col13\" >3</td>\n",
       "      <td id=\"T_784c8_row0_col14\" class=\"data row0 col14\" >13</td>\n",
       "      <td id=\"T_784c8_row0_col15\" class=\"data row0 col15\" >16</td>\n",
       "      <td id=\"T_784c8_row0_col16\" class=\"data row0 col16\" >0</td>\n",
       "    </tr>\n",
       "    <tr>\n",
       "      <th id=\"T_784c8_level0_row1\" class=\"row_heading level0 row1\" >1</th>\n",
       "      <td id=\"T_784c8_row1_col0\" class=\"data row1 col0\" >2011-01-01 00:00:00</td>\n",
       "      <td id=\"T_784c8_row1_col1\" class=\"data row1 col1\" >1</td>\n",
       "      <td id=\"T_784c8_row1_col2\" class=\"data row1 col2\" >False</td>\n",
       "      <td id=\"T_784c8_row1_col3\" class=\"data row1 col3\" >1</td>\n",
       "      <td id=\"T_784c8_row1_col4\" class=\"data row1 col4\" >1</td>\n",
       "      <td id=\"T_784c8_row1_col5\" class=\"data row1 col5\" >False</td>\n",
       "      <td id=\"T_784c8_row1_col6\" class=\"data row1 col6\" >6</td>\n",
       "      <td id=\"T_784c8_row1_col7\" class=\"data row1 col7\" >False</td>\n",
       "      <td id=\"T_784c8_row1_col8\" class=\"data row1 col8\" >1</td>\n",
       "      <td id=\"T_784c8_row1_col9\" class=\"data row1 col9\" >0.220000</td>\n",
       "      <td id=\"T_784c8_row1_col10\" class=\"data row1 col10\" >0.272700</td>\n",
       "      <td id=\"T_784c8_row1_col11\" class=\"data row1 col11\" >0.800000</td>\n",
       "      <td id=\"T_784c8_row1_col12\" class=\"data row1 col12\" >0.000000</td>\n",
       "      <td id=\"T_784c8_row1_col13\" class=\"data row1 col13\" >8</td>\n",
       "      <td id=\"T_784c8_row1_col14\" class=\"data row1 col14\" >32</td>\n",
       "      <td id=\"T_784c8_row1_col15\" class=\"data row1 col15\" >40</td>\n",
       "      <td id=\"T_784c8_row1_col16\" class=\"data row1 col16\" >0</td>\n",
       "    </tr>\n",
       "    <tr>\n",
       "      <th id=\"T_784c8_level0_row2\" class=\"row_heading level0 row2\" >2</th>\n",
       "      <td id=\"T_784c8_row2_col0\" class=\"data row2 col0\" >2011-01-01 00:00:00</td>\n",
       "      <td id=\"T_784c8_row2_col1\" class=\"data row2 col1\" >1</td>\n",
       "      <td id=\"T_784c8_row2_col2\" class=\"data row2 col2\" >False</td>\n",
       "      <td id=\"T_784c8_row2_col3\" class=\"data row2 col3\" >1</td>\n",
       "      <td id=\"T_784c8_row2_col4\" class=\"data row2 col4\" >2</td>\n",
       "      <td id=\"T_784c8_row2_col5\" class=\"data row2 col5\" >False</td>\n",
       "      <td id=\"T_784c8_row2_col6\" class=\"data row2 col6\" >6</td>\n",
       "      <td id=\"T_784c8_row2_col7\" class=\"data row2 col7\" >False</td>\n",
       "      <td id=\"T_784c8_row2_col8\" class=\"data row2 col8\" >1</td>\n",
       "      <td id=\"T_784c8_row2_col9\" class=\"data row2 col9\" >0.220000</td>\n",
       "      <td id=\"T_784c8_row2_col10\" class=\"data row2 col10\" >0.272700</td>\n",
       "      <td id=\"T_784c8_row2_col11\" class=\"data row2 col11\" >0.800000</td>\n",
       "      <td id=\"T_784c8_row2_col12\" class=\"data row2 col12\" >0.000000</td>\n",
       "      <td id=\"T_784c8_row2_col13\" class=\"data row2 col13\" >5</td>\n",
       "      <td id=\"T_784c8_row2_col14\" class=\"data row2 col14\" >27</td>\n",
       "      <td id=\"T_784c8_row2_col15\" class=\"data row2 col15\" >32</td>\n",
       "      <td id=\"T_784c8_row2_col16\" class=\"data row2 col16\" >0</td>\n",
       "    </tr>\n",
       "    <tr>\n",
       "      <th id=\"T_784c8_level0_row3\" class=\"row_heading level0 row3\" >3</th>\n",
       "      <td id=\"T_784c8_row3_col0\" class=\"data row3 col0\" >2011-01-01 00:00:00</td>\n",
       "      <td id=\"T_784c8_row3_col1\" class=\"data row3 col1\" >1</td>\n",
       "      <td id=\"T_784c8_row3_col2\" class=\"data row3 col2\" >False</td>\n",
       "      <td id=\"T_784c8_row3_col3\" class=\"data row3 col3\" >1</td>\n",
       "      <td id=\"T_784c8_row3_col4\" class=\"data row3 col4\" >3</td>\n",
       "      <td id=\"T_784c8_row3_col5\" class=\"data row3 col5\" >False</td>\n",
       "      <td id=\"T_784c8_row3_col6\" class=\"data row3 col6\" >6</td>\n",
       "      <td id=\"T_784c8_row3_col7\" class=\"data row3 col7\" >False</td>\n",
       "      <td id=\"T_784c8_row3_col8\" class=\"data row3 col8\" >1</td>\n",
       "      <td id=\"T_784c8_row3_col9\" class=\"data row3 col9\" >0.240000</td>\n",
       "      <td id=\"T_784c8_row3_col10\" class=\"data row3 col10\" >0.287900</td>\n",
       "      <td id=\"T_784c8_row3_col11\" class=\"data row3 col11\" >0.750000</td>\n",
       "      <td id=\"T_784c8_row3_col12\" class=\"data row3 col12\" >0.000000</td>\n",
       "      <td id=\"T_784c8_row3_col13\" class=\"data row3 col13\" >3</td>\n",
       "      <td id=\"T_784c8_row3_col14\" class=\"data row3 col14\" >10</td>\n",
       "      <td id=\"T_784c8_row3_col15\" class=\"data row3 col15\" >13</td>\n",
       "      <td id=\"T_784c8_row3_col16\" class=\"data row3 col16\" >0</td>\n",
       "    </tr>\n",
       "    <tr>\n",
       "      <th id=\"T_784c8_level0_row4\" class=\"row_heading level0 row4\" >4</th>\n",
       "      <td id=\"T_784c8_row4_col0\" class=\"data row4 col0\" >2011-01-01 00:00:00</td>\n",
       "      <td id=\"T_784c8_row4_col1\" class=\"data row4 col1\" >1</td>\n",
       "      <td id=\"T_784c8_row4_col2\" class=\"data row4 col2\" >False</td>\n",
       "      <td id=\"T_784c8_row4_col3\" class=\"data row4 col3\" >1</td>\n",
       "      <td id=\"T_784c8_row4_col4\" class=\"data row4 col4\" >4</td>\n",
       "      <td id=\"T_784c8_row4_col5\" class=\"data row4 col5\" >False</td>\n",
       "      <td id=\"T_784c8_row4_col6\" class=\"data row4 col6\" >6</td>\n",
       "      <td id=\"T_784c8_row4_col7\" class=\"data row4 col7\" >False</td>\n",
       "      <td id=\"T_784c8_row4_col8\" class=\"data row4 col8\" >1</td>\n",
       "      <td id=\"T_784c8_row4_col9\" class=\"data row4 col9\" >0.240000</td>\n",
       "      <td id=\"T_784c8_row4_col10\" class=\"data row4 col10\" >0.287900</td>\n",
       "      <td id=\"T_784c8_row4_col11\" class=\"data row4 col11\" >0.750000</td>\n",
       "      <td id=\"T_784c8_row4_col12\" class=\"data row4 col12\" >0.000000</td>\n",
       "      <td id=\"T_784c8_row4_col13\" class=\"data row4 col13\" >0</td>\n",
       "      <td id=\"T_784c8_row4_col14\" class=\"data row4 col14\" >1</td>\n",
       "      <td id=\"T_784c8_row4_col15\" class=\"data row4 col15\" >1</td>\n",
       "      <td id=\"T_784c8_row4_col16\" class=\"data row4 col16\" >0</td>\n",
       "    </tr>\n",
       "  </tbody>\n",
       "</table>\n"
      ],
      "text/plain": [
       "<pandas.io.formats.style.Styler at 0x190f4caf250>"
      ]
     },
     "execution_count": 212,
     "metadata": {},
     "output_type": "execute_result"
    }
   ],
   "source": [
    "# function to determine if a given hour is typically a rush hour\n",
    "def is_rush_hour(hour):\n",
    "    if (7 <= hour <= 9) or (17 <= hour <= 19):\n",
    "        return 1\n",
    "    else:\n",
    "        return 0\n",
    "\n",
    "# create the new 'rush_hour' feature\n",
    "bike_dataset['rush_hour'] = bike_dataset['hour'].apply(is_rush_hour)\n",
    "\n",
    "bike_dataset.head().style.background_gradient(cmap='Greens')"
   ]
  },
  {
   "cell_type": "code",
   "execution_count": 213,
   "id": "bc683b1e",
   "metadata": {},
   "outputs": [],
   "source": [
    "bike_dataset['rush_hour'] = bike_dataset['rush_hour'].map({0: True, 1: False})"
   ]
  },
  {
   "cell_type": "code",
   "execution_count": 214,
   "id": "d317773b",
   "metadata": {},
   "outputs": [],
   "source": [
    "x=bike_dataset.drop(columns=['casual','registered','count','datetime'],axis=1)\n",
    "y = bike_dataset['count'].copy()"
   ]
  },
  {
   "cell_type": "code",
   "execution_count": 215,
   "id": "d7f3a6ac",
   "metadata": {},
   "outputs": [
    {
     "name": "stdout",
     "output_type": "stream",
     "text": [
      "<class 'pandas.core.frame.DataFrame'>\n",
      "Index: 16259 entries, 0 to 17378\n",
      "Data columns (total 13 columns):\n",
      " #   Column      Non-Null Count  Dtype  \n",
      "---  ------      --------------  -----  \n",
      " 0   season      16259 non-null  int64  \n",
      " 1   year        16259 non-null  bool   \n",
      " 2   month       16259 non-null  int64  \n",
      " 3   hour        16259 non-null  int64  \n",
      " 4   holiday     16259 non-null  bool   \n",
      " 5   weekday     16259 non-null  int64  \n",
      " 6   workingday  16259 non-null  bool   \n",
      " 7   weather     16259 non-null  int64  \n",
      " 8   temp        16259 non-null  float64\n",
      " 9   atemp       16259 non-null  float64\n",
      " 10  humidity    16259 non-null  float64\n",
      " 11  windspeed   16259 non-null  float64\n",
      " 12  rush_hour   16259 non-null  bool   \n",
      "dtypes: bool(4), float64(4), int64(5)\n",
      "memory usage: 1.3 MB\n"
     ]
    }
   ],
   "source": [
    "x.info()"
   ]
  },
  {
   "cell_type": "code",
   "execution_count": 216,
   "id": "d9c56e87",
   "metadata": {},
   "outputs": [
    {
     "data": {
      "text/plain": [
       "<Axes: xlabel='count', ylabel='Count'>"
      ]
     },
     "execution_count": 216,
     "metadata": {},
     "output_type": "execute_result"
    },
    {
     "data": {
      "image/png": "[encoded data removed]",
      "text/plain": [
       "<Figure size 640x480 with 1 Axes>"
      ]
     },
     "metadata": {},
     "output_type": "display_data"
    }
   ],
   "source": [
    "sns.histplot(x=y)"
   ]
  },
  {
   "cell_type": "code",
   "execution_count": 217,
   "id": "fb9dfb9b",
   "metadata": {},
   "outputs": [],
   "source": [
    "from sklearn.model_selection import train_test_split"
   ]
  },
  {
   "cell_type": "code",
   "execution_count": 218,
   "id": "e9536ad5",
   "metadata": {},
   "outputs": [],
   "source": [
    "x_train,x_test,y_train,y_test=train_test_split(x,y,random_state=42,test_size=0.2)"
   ]
  },
  {
   "cell_type": "code",
   "execution_count": 219,
   "id": "9532a7c2",
   "metadata": {},
   "outputs": [],
   "source": [
    "from sklearn.preprocessing import MinMaxScaler, PolynomialFeatures, OneHotEncoder , StandardScaler\n",
    "from sklearn.compose import ColumnTransformer\n",
    "from sklearn.pipeline import Pipeline\n",
    "# from category_encoders import BinaryEncoder"
   ]
  },
  {
   "cell_type": "code",
   "execution_count": 220,
   "id": "2b0e8bd2",
   "metadata": {},
   "outputs": [],
   "source": [
    "# all features are numerical and normalized\n",
    "# num_cols=['atemp','temp','humidity','windspeed']\n",
    "num_cols=x.select_dtypes(exclude=\"O\").columns.to_list()\n",
    "# num_cols=[\"hour\",\"weekday\",\"month\",\"weather\",'atemp','temp','humidity','windspeed']\n",
    "cat_cols=x.select_dtypes(include=\"O\").columns.to_list()\n",
    "# unnorm=[\"hour\",\"weekday\",\"month\",\"weather\"]"
   ]
  },
  {
   "cell_type": "code",
   "execution_count": 221,
   "id": "029d7747",
   "metadata": {},
   "outputs": [],
   "source": [
    "\n",
    "def prep(train, test, d=2):\n",
    "    numerical_transformer = Pipeline(steps=[  \n",
    "        ('poly', PolynomialFeatures(degree=d))])\n",
    "    \n",
    "    cat_transformer = Pipeline(steps=[\n",
    "        ('encoder', OneHotEncoder(drop='first'))])\n",
    "    \n",
    "    preprocessor = ColumnTransformer(transformers=[\n",
    "        ('num_prep', numerical_transformer, num_cols),\n",
    "        ('cat', cat_transformer, cat_cols)\n",
    "    ])\n",
    "    \n",
    "    x_train_preprocessed = preprocessor.fit_transform(train)\n",
    "    x_test_preprocessed = preprocessor.transform(test)\n",
    "    \n",
    "    return x_train_preprocessed, x_test_preprocessed\n",
    "\n"
   ]
  },
  {
   "cell_type": "code",
   "execution_count": 223,
   "id": "a1888b43",
   "metadata": {},
   "outputs": [],
   "source": [
    "x_train_preprocessed, x_test_preprocessed = prep(x_train, x_test, d=4)\n"
   ]
  },
  {
   "cell_type": "code",
   "execution_count": 224,
   "id": "4bef9b3d",
   "metadata": {},
   "outputs": [
    {
     "data": {
      "text/plain": [
       "0.8889377188827179"
      ]
     },
     "execution_count": 224,
     "metadata": {},
     "output_type": "execute_result"
    }
   ],
   "source": [
    "from sklearn.linear_model import Ridge\n",
    "# Linear Regression\n",
    "r = Ridge(alpha=0.1)\n",
    "r.fit(x_train_preprocessed, y_train)\n",
    "r.score(x_train_preprocessed,y_train)"
   ]
  },
  {
   "cell_type": "code",
   "execution_count": 225,
   "id": "dcb4a30b",
   "metadata": {},
   "outputs": [
    {
     "data": {
      "text/plain": [
       "0.8732463774590666"
      ]
     },
     "execution_count": 225,
     "metadata": {},
     "output_type": "execute_result"
    }
   ],
   "source": [
    "r.score(x_test_preprocessed,y_test)"
   ]
  },
  {
   "cell_type": "code",
   "execution_count": 226,
   "id": "d71b7835",
   "metadata": {},
   "outputs": [
    {
     "data": {
      "text/plain": [
       "2735.704774173592"
      ]
     },
     "execution_count": 226,
     "metadata": {},
     "output_type": "execute_result"
    }
   ],
   "source": [
    "from sklearn.metrics import mean_squared_error\n",
    "y_pred = r.predict(x_test_preprocessed)\n",
    "mean_squared_error(y_test, y_pred)"
   ]
  },
  {
   "cell_type": "code",
   "execution_count": null,
   "id": "056eb683",
   "metadata": {},
   "outputs": [],
   "source": []
  }
 ],
 "metadata": {
  "kaggle": {
   "accelerator": "none",
   "dataSources": [
    {
     "datasetId": 130897,
     "sourceId": 312329,
     "sourceType": "datasetVersion"
    }
   ],
   "dockerImageVersionId": 31012,
   "isGpuEnabled": false,
   "isInternetEnabled": false,
   "language": "python",
   "sourceType": "notebook"
  },
  "kernelspec": {
   "display_name": "Python 3",
   "language": "python",
   "name": "python3"
  },
  "language_info": {
   "codemirror_mode": {
    "name": "ipython",
    "version": 3
   },
   "file_extension": ".py",
   "mimetype": "text/x-python",
   "name": "python",
   "nbconvert_exporter": "python",
   "pygments_lexer": "ipython3",
   "version": "3.11.9"
  },
  "papermill": {
   "default_parameters": {},
   "duration": 18.005055,
   "end_time": "2025-05-01T18:24:26.286354",
   "environment_variables": {},
   "exception": null,
   "input_path": "__notebook__.ipynb",
   "output_path": "__notebook__.ipynb",
   "parameters": {},
   "start_time": "2025-05-01T18:24:08.281299",
   "version": "2.6.0"
  }
 },
 "nbformat": 4,
 "nbformat_minor": 5
}
