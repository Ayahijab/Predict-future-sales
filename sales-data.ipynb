{
 "cells": [
  {
   "cell_type": "code",
   "execution_count": 10,
   "id": "f9025553",
   "metadata": {
    "execution": {
     "iopub.execute_input": "2025-05-01T18:24:14.309907Z",
     "iopub.status.busy": "2025-05-01T18:24:14.309453Z",
     "iopub.status.idle": "2025-05-01T18:24:19.473246Z",
     "shell.execute_reply": "2025-05-01T18:24:19.472007Z"
    },
    "papermill": {
     "duration": 5.175011,
     "end_time": "2025-05-01T18:24:19.475102",
     "exception": false,
     "start_time": "2025-05-01T18:24:14.300091",
     "status": "completed"
    },
    "tags": []
   },
   "outputs": [],
   "source": [
    "import numpy as np\n",
    "import pandas as pd\n",
    "import matplotlib.pyplot as plt\n",
    "import seaborn as sns \n",
    "sns.set_theme(\"notebook\")"
   ]
  },
  {
   "cell_type": "markdown",
   "id": "7776a248",
   "metadata": {},
   "source": [
    "# 1. Reading data csv file"
   ]
  },
  {
   "cell_type": "code",
   "execution_count": 11,
   "id": "e150b11a",
   "metadata": {
    "execution": {
     "iopub.execute_input": "2025-05-01T18:24:19.489712Z",
     "iopub.status.busy": "2025-05-01T18:24:19.489164Z",
     "iopub.status.idle": "2025-05-01T18:24:19.592609Z",
     "shell.execute_reply": "2025-05-01T18:24:19.591452Z"
    },
    "papermill": {
     "duration": 0.113064,
     "end_time": "2025-05-01T18:24:19.594279",
     "exception": false,
     "start_time": "2025-05-01T18:24:19.481215",
     "status": "completed"
    },
    "tags": []
   },
   "outputs": [
    {
     "data": {
      "application/vnd.microsoft.datawrangler.viewer.v0+json": {
       "columns": [
        {
         "name": "index",
         "rawType": "int64",
         "type": "integer"
        },
        {
         "name": "instant",
         "rawType": "int64",
         "type": "integer"
        },
        {
         "name": "dteday",
         "rawType": "object",
         "type": "string"
        },
        {
         "name": "season",
         "rawType": "int64",
         "type": "integer"
        },
        {
         "name": "yr",
         "rawType": "int64",
         "type": "integer"
        },
        {
         "name": "mnth",
         "rawType": "int64",
         "type": "integer"
        },
        {
         "name": "hr",
         "rawType": "int64",
         "type": "integer"
        },
        {
         "name": "holiday",
         "rawType": "int64",
         "type": "integer"
        },
        {
         "name": "weekday",
         "rawType": "int64",
         "type": "integer"
        },
        {
         "name": "workingday",
         "rawType": "int64",
         "type": "integer"
        },
        {
         "name": "weathersit",
         "rawType": "int64",
         "type": "integer"
        },
        {
         "name": "temp",
         "rawType": "float64",
         "type": "float"
        },
        {
         "name": "atemp",
         "rawType": "float64",
         "type": "float"
        },
        {
         "name": "hum",
         "rawType": "float64",
         "type": "float"
        },
        {
         "name": "windspeed",
         "rawType": "float64",
         "type": "float"
        },
        {
         "name": "casual",
         "rawType": "int64",
         "type": "integer"
        },
        {
         "name": "registered",
         "rawType": "int64",
         "type": "integer"
        },
        {
         "name": "cnt",
         "rawType": "int64",
         "type": "integer"
        }
       ],
       "conversionMethod": "pd.DataFrame",
       "ref": "04cde79d-82dd-4807-bc73-44e28e46d7c1",
       "rows": [
        [
         "0",
         "1",
         "2011-01-01",
         "1",
         "0",
         "1",
         "0",
         "0",
         "6",
         "0",
         "1",
         "0.24",
         "0.2879",
         "0.81",
         "0.0",
         "3",
         "13",
         "16"
        ],
        [
         "1",
         "2",
         "2011-01-01",
         "1",
         "0",
         "1",
         "1",
         "0",
         "6",
         "0",
         "1",
         "0.22",
         "0.2727",
         "0.8",
         "0.0",
         "8",
         "32",
         "40"
        ],
        [
         "2",
         "3",
         "2011-01-01",
         "1",
         "0",
         "1",
         "2",
         "0",
         "6",
         "0",
         "1",
         "0.22",
         "0.2727",
         "0.8",
         "0.0",
         "5",
         "27",
         "32"
        ],
        [
         "3",
         "4",
         "2011-01-01",
         "1",
         "0",
         "1",
         "3",
         "0",
         "6",
         "0",
         "1",
         "0.24",
         "0.2879",
         "0.75",
         "0.0",
         "3",
         "10",
         "13"
        ],
        [
         "4",
         "5",
         "2011-01-01",
         "1",
         "0",
         "1",
         "4",
         "0",
         "6",
         "0",
         "1",
         "0.24",
         "0.2879",
         "0.75",
         "0.0",
         "0",
         "1",
         "1"
        ]
       ],
       "shape": {
        "columns": 17,
        "rows": 5
       }
      },
      "text/html": [
       "<div>\n",
       "<style scoped>\n",
       "    .dataframe tbody tr th:only-of-type {\n",
       "        vertical-align: middle;\n",
       "    }\n",
       "\n",
       "    .dataframe tbody tr th {\n",
       "        vertical-align: top;\n",
       "    }\n",
       "\n",
       "    .dataframe thead th {\n",
       "        text-align: right;\n",
       "    }\n",
       "</style>\n",
       "<table border=\"1\" class=\"dataframe\">\n",
       "  <thead>\n",
       "    <tr style=\"text-align: right;\">\n",
       "      <th></th>\n",
       "      <th>instant</th>\n",
       "      <th>dteday</th>\n",
       "      <th>season</th>\n",
       "      <th>yr</th>\n",
       "      <th>mnth</th>\n",
       "      <th>hr</th>\n",
       "      <th>holiday</th>\n",
       "      <th>weekday</th>\n",
       "      <th>workingday</th>\n",
       "      <th>weathersit</th>\n",
       "      <th>temp</th>\n",
       "      <th>atemp</th>\n",
       "      <th>hum</th>\n",
       "      <th>windspeed</th>\n",
       "      <th>casual</th>\n",
       "      <th>registered</th>\n",
       "      <th>cnt</th>\n",
       "    </tr>\n",
       "  </thead>\n",
       "  <tbody>\n",
       "    <tr>\n",
       "      <th>0</th>\n",
       "      <td>1</td>\n",
       "      <td>2011-01-01</td>\n",
       "      <td>1</td>\n",
       "      <td>0</td>\n",
       "      <td>1</td>\n",
       "      <td>0</td>\n",
       "      <td>0</td>\n",
       "      <td>6</td>\n",
       "      <td>0</td>\n",
       "      <td>1</td>\n",
       "      <td>0.24</td>\n",
       "      <td>0.2879</td>\n",
       "      <td>0.81</td>\n",
       "      <td>0.0</td>\n",
       "      <td>3</td>\n",
       "      <td>13</td>\n",
       "      <td>16</td>\n",
       "    </tr>\n",
       "    <tr>\n",
       "      <th>1</th>\n",
       "      <td>2</td>\n",
       "      <td>2011-01-01</td>\n",
       "      <td>1</td>\n",
       "      <td>0</td>\n",
       "      <td>1</td>\n",
       "      <td>1</td>\n",
       "      <td>0</td>\n",
       "      <td>6</td>\n",
       "      <td>0</td>\n",
       "      <td>1</td>\n",
       "      <td>0.22</td>\n",
       "      <td>0.2727</td>\n",
       "      <td>0.80</td>\n",
       "      <td>0.0</td>\n",
       "      <td>8</td>\n",
       "      <td>32</td>\n",
       "      <td>40</td>\n",
       "    </tr>\n",
       "    <tr>\n",
       "      <th>2</th>\n",
       "      <td>3</td>\n",
       "      <td>2011-01-01</td>\n",
       "      <td>1</td>\n",
       "      <td>0</td>\n",
       "      <td>1</td>\n",
       "      <td>2</td>\n",
       "      <td>0</td>\n",
       "      <td>6</td>\n",
       "      <td>0</td>\n",
       "      <td>1</td>\n",
       "      <td>0.22</td>\n",
       "      <td>0.2727</td>\n",
       "      <td>0.80</td>\n",
       "      <td>0.0</td>\n",
       "      <td>5</td>\n",
       "      <td>27</td>\n",
       "      <td>32</td>\n",
       "    </tr>\n",
       "    <tr>\n",
       "      <th>3</th>\n",
       "      <td>4</td>\n",
       "      <td>2011-01-01</td>\n",
       "      <td>1</td>\n",
       "      <td>0</td>\n",
       "      <td>1</td>\n",
       "      <td>3</td>\n",
       "      <td>0</td>\n",
       "      <td>6</td>\n",
       "      <td>0</td>\n",
       "      <td>1</td>\n",
       "      <td>0.24</td>\n",
       "      <td>0.2879</td>\n",
       "      <td>0.75</td>\n",
       "      <td>0.0</td>\n",
       "      <td>3</td>\n",
       "      <td>10</td>\n",
       "      <td>13</td>\n",
       "    </tr>\n",
       "    <tr>\n",
       "      <th>4</th>\n",
       "      <td>5</td>\n",
       "      <td>2011-01-01</td>\n",
       "      <td>1</td>\n",
       "      <td>0</td>\n",
       "      <td>1</td>\n",
       "      <td>4</td>\n",
       "      <td>0</td>\n",
       "      <td>6</td>\n",
       "      <td>0</td>\n",
       "      <td>1</td>\n",
       "      <td>0.24</td>\n",
       "      <td>0.2879</td>\n",
       "      <td>0.75</td>\n",
       "      <td>0.0</td>\n",
       "      <td>0</td>\n",
       "      <td>1</td>\n",
       "      <td>1</td>\n",
       "    </tr>\n",
       "  </tbody>\n",
       "</table>\n",
       "</div>"
      ],
      "text/plain": [
       "   instant      dteday  season  yr  mnth  hr  holiday  weekday  workingday  \\\n",
       "0        1  2011-01-01       1   0     1   0        0        6           0   \n",
       "1        2  2011-01-01       1   0     1   1        0        6           0   \n",
       "2        3  2011-01-01       1   0     1   2        0        6           0   \n",
       "3        4  2011-01-01       1   0     1   3        0        6           0   \n",
       "4        5  2011-01-01       1   0     1   4        0        6           0   \n",
       "\n",
       "   weathersit  temp   atemp   hum  windspeed  casual  registered  cnt  \n",
       "0           1  0.24  0.2879  0.81        0.0       3          13   16  \n",
       "1           1  0.22  0.2727  0.80        0.0       8          32   40  \n",
       "2           1  0.22  0.2727  0.80        0.0       5          27   32  \n",
       "3           1  0.24  0.2879  0.75        0.0       3          10   13  \n",
       "4           1  0.24  0.2879  0.75        0.0       0           1    1  "
      ]
     },
     "execution_count": 11,
     "metadata": {},
     "output_type": "execute_result"
    }
   ],
   "source": [
    "bike_dataset = pd.read_csv(\"hour.csv\")\n",
    "bike_dataset.head()\n"
   ]
  },
  {
   "cell_type": "markdown",
   "id": "5aadc117",
   "metadata": {},
   "source": [
    "# 2.Exploring data"
   ]
  },
  {
   "cell_type": "markdown",
   "id": "18f0026c",
   "metadata": {},
   "source": [
    "checking for any duplicates"
   ]
  },
  {
   "cell_type": "code",
   "execution_count": 12,
   "id": "e30f97b3",
   "metadata": {
    "execution": {
     "iopub.execute_input": "2025-05-01T18:24:19.606716Z",
     "iopub.status.busy": "2025-05-01T18:24:19.606350Z",
     "iopub.status.idle": "2025-05-01T18:24:19.629932Z",
     "shell.execute_reply": "2025-05-01T18:24:19.628749Z"
    },
    "papermill": {
     "duration": 0.031765,
     "end_time": "2025-05-01T18:24:19.631772",
     "exception": false,
     "start_time": "2025-05-01T18:24:19.600007",
     "status": "completed"
    },
    "tags": []
   },
   "outputs": [
    {
     "data": {
      "text/plain": [
       "0"
      ]
     },
     "execution_count": 12,
     "metadata": {},
     "output_type": "execute_result"
    }
   ],
   "source": [
    "bike_dataset.duplicated().sum()\n"
   ]
  },
  {
   "cell_type": "markdown",
   "id": "b2a59133",
   "metadata": {},
   "source": [
    "checking for value counts for each column"
   ]
  },
  {
   "cell_type": "code",
   "execution_count": 13,
   "id": "293f939a",
   "metadata": {},
   "outputs": [
    {
     "data": {
      "text/plain": [
       "weekday\n",
       "6    2512\n",
       "0    2502\n",
       "5    2487\n",
       "1    2479\n",
       "3    2475\n",
       "4    2471\n",
       "2    2453\n",
       "Name: count, dtype: int64"
      ]
     },
     "execution_count": 13,
     "metadata": {},
     "output_type": "execute_result"
    }
   ],
   "source": [
    "bike_dataset.weekday.value_counts()"
   ]
  },
  {
   "cell_type": "code",
   "execution_count": 14,
   "id": "4fc0a851",
   "metadata": {},
   "outputs": [
    {
     "data": {
      "text/plain": [
       "season\n",
       "3    4496\n",
       "2    4409\n",
       "1    4242\n",
       "4    4232\n",
       "Name: count, dtype: int64"
      ]
     },
     "execution_count": 14,
     "metadata": {},
     "output_type": "execute_result"
    }
   ],
   "source": [
    "bike_dataset.season.value_counts()"
   ]
  },
  {
   "cell_type": "code",
   "execution_count": 15,
   "id": "02c9d705",
   "metadata": {
    "execution": {
     "iopub.execute_input": "2025-05-01T18:24:19.647720Z",
     "iopub.status.busy": "2025-05-01T18:24:19.647333Z",
     "iopub.status.idle": "2025-05-01T18:24:19.660806Z",
     "shell.execute_reply": "2025-05-01T18:24:19.659734Z"
    },
    "papermill": {
     "duration": 0.022265,
     "end_time": "2025-05-01T18:24:19.662684",
     "exception": false,
     "start_time": "2025-05-01T18:24:19.640419",
     "status": "completed"
    },
    "tags": []
   },
   "outputs": [
    {
     "data": {
      "text/plain": [
       "instant       0.0\n",
       "dteday        0.0\n",
       "season        0.0\n",
       "yr            0.0\n",
       "mnth          0.0\n",
       "hr            0.0\n",
       "holiday       0.0\n",
       "weekday       0.0\n",
       "workingday    0.0\n",
       "weathersit    0.0\n",
       "temp          0.0\n",
       "atemp         0.0\n",
       "hum           0.0\n",
       "windspeed     0.0\n",
       "casual        0.0\n",
       "registered    0.0\n",
       "cnt           0.0\n",
       "dtype: float64"
      ]
     },
     "execution_count": 15,
     "metadata": {},
     "output_type": "execute_result"
    }
   ],
   "source": [
    "bike_dataset.isnull().mean()"
   ]
  },
  {
   "cell_type": "markdown",
   "id": "3427b545",
   "metadata": {},
   "source": [
    "renaming each column for clarity"
   ]
  },
  {
   "cell_type": "code",
   "execution_count": 16,
   "id": "fe55f661",
   "metadata": {},
   "outputs": [
    {
     "name": "stdout",
     "output_type": "stream",
     "text": [
      "Index(['instant', 'datetime', 'season', 'year', 'month', 'hour', 'holiday',\n",
      "       'weekday', 'workingday', 'weather', 'temp', 'atemp', 'humidity',\n",
      "       'windspeed', 'casual', 'registered', 'count'],\n",
      "      dtype='object')\n"
     ]
    }
   ],
   "source": [
    "bike_dataset = bike_dataset.rename(columns={'yr':'year',\n",
    "                                            'mnth':'month',\n",
    "                                            'hum':'humidity',\n",
    "                                            'weathersit':'weather',\n",
    "                                            'cnt':'count',\n",
    "                                           'hr':'hour',\n",
    "                                           'dteday':'datetime'\n",
    "                                              })\n",
    "print(bike_dataset.columns)"
   ]
  },
  {
   "cell_type": "code",
   "execution_count": 17,
   "id": "0b56cbb7",
   "metadata": {
    "execution": {
     "iopub.execute_input": "2025-05-01T18:24:19.676116Z",
     "iopub.status.busy": "2025-05-01T18:24:19.675353Z",
     "iopub.status.idle": "2025-05-01T18:24:19.698428Z",
     "shell.execute_reply": "2025-05-01T18:24:19.696823Z"
    },
    "papermill": {
     "duration": 0.031837,
     "end_time": "2025-05-01T18:24:19.700444",
     "exception": false,
     "start_time": "2025-05-01T18:24:19.668607",
     "status": "completed"
    },
    "tags": []
   },
   "outputs": [
    {
     "name": "stdout",
     "output_type": "stream",
     "text": [
      "<class 'pandas.core.frame.DataFrame'>\n",
      "RangeIndex: 17379 entries, 0 to 17378\n",
      "Data columns (total 17 columns):\n",
      " #   Column      Non-Null Count  Dtype  \n",
      "---  ------      --------------  -----  \n",
      " 0   instant     17379 non-null  int64  \n",
      " 1   datetime    17379 non-null  object \n",
      " 2   season      17379 non-null  int64  \n",
      " 3   year        17379 non-null  int64  \n",
      " 4   month       17379 non-null  int64  \n",
      " 5   hour        17379 non-null  int64  \n",
      " 6   holiday     17379 non-null  int64  \n",
      " 7   weekday     17379 non-null  int64  \n",
      " 8   workingday  17379 non-null  int64  \n",
      " 9   weather     17379 non-null  int64  \n",
      " 10  temp        17379 non-null  float64\n",
      " 11  atemp       17379 non-null  float64\n",
      " 12  humidity    17379 non-null  float64\n",
      " 13  windspeed   17379 non-null  float64\n",
      " 14  casual      17379 non-null  int64  \n",
      " 15  registered  17379 non-null  int64  \n",
      " 16  count       17379 non-null  int64  \n",
      "dtypes: float64(4), int64(12), object(1)\n",
      "memory usage: 2.3+ MB\n"
     ]
    }
   ],
   "source": [
    "bike_dataset.info()"
   ]
  },
  {
   "cell_type": "markdown",
   "id": "8885a2b0",
   "metadata": {},
   "source": [
    "# 3. changing datatypes \n",
    "making data types suitable for machine learning"
   ]
  },
  {
   "cell_type": "code",
   "execution_count": 18,
   "id": "d8f895d3",
   "metadata": {},
   "outputs": [],
   "source": [
    "# bike_dataset['season'] = bike_dataset['season'].map({\n",
    "#     1: 'Spring', 2: 'Summer', 3: 'Fall', 4: 'Winter'\n",
    "# }).astype('O')\n",
    "\n",
    "# bike_dataset['weekday'] = bike_dataset['weekday'].map({\n",
    "#     0: 'Saturday', 1: 'Sunday', 2: 'Monday', 3: 'Tuesday',\n",
    "#     4: 'Wednesday', 5: 'Thursday', 6: 'Friday'\n",
    "# }).astype('O')\n",
    "\n",
    "bike_dataset['weather'] = bike_dataset['weather'].map({\n",
    "    1: 'Clear', 2: 'Mist', 3: 'Light Rain', 4: 'Heavy Rain'\n",
    "}).astype('O')\n",
    "\n",
    "# bike_dataset['hour'] = bike_dataset['hour'].astype('O')\n",
    "# bike_dataset['month'] = bike_dataset['month'].astype('O')\n",
    "bike_dataset['year'] = bike_dataset['year'].astype(\"bool\")\n",
    "bike_dataset['holiday'] = bike_dataset['holiday'].map({1: True, 0: False})\n",
    "bike_dataset['workingday'] = bike_dataset['workingday'].map({1: True, 0: False})\n",
    "bike_dataset['datetime'] = pd.to_datetime(bike_dataset['datetime'])"
   ]
  },
  {
   "cell_type": "code",
   "execution_count": 19,
   "id": "86b2ecf9",
   "metadata": {},
   "outputs": [
    {
     "name": "stdout",
     "output_type": "stream",
     "text": [
      "<class 'pandas.core.frame.DataFrame'>\n",
      "RangeIndex: 17379 entries, 0 to 17378\n",
      "Data columns (total 17 columns):\n",
      " #   Column      Non-Null Count  Dtype         \n",
      "---  ------      --------------  -----         \n",
      " 0   instant     17379 non-null  int64         \n",
      " 1   datetime    17379 non-null  datetime64[ns]\n",
      " 2   season      17379 non-null  int64         \n",
      " 3   year        17379 non-null  bool          \n",
      " 4   month       17379 non-null  int64         \n",
      " 5   hour        17379 non-null  int64         \n",
      " 6   holiday     17379 non-null  bool          \n",
      " 7   weekday     17379 non-null  int64         \n",
      " 8   workingday  17379 non-null  bool          \n",
      " 9   weather     17379 non-null  object        \n",
      " 10  temp        17379 non-null  float64       \n",
      " 11  atemp       17379 non-null  float64       \n",
      " 12  humidity    17379 non-null  float64       \n",
      " 13  windspeed   17379 non-null  float64       \n",
      " 14  casual      17379 non-null  int64         \n",
      " 15  registered  17379 non-null  int64         \n",
      " 16  count       17379 non-null  int64         \n",
      "dtypes: bool(3), datetime64[ns](1), float64(4), int64(8), object(1)\n",
      "memory usage: 1.9+ MB\n"
     ]
    }
   ],
   "source": [
    "bike_dataset.info()"
   ]
  },
  {
   "cell_type": "code",
   "execution_count": 20,
   "id": "beb74b36",
   "metadata": {
    "execution": {
     "iopub.execute_input": "2025-05-01T18:24:19.714070Z",
     "iopub.status.busy": "2025-05-01T18:24:19.713768Z",
     "iopub.status.idle": "2025-05-01T18:24:19.765738Z",
     "shell.execute_reply": "2025-05-01T18:24:19.764504Z"
    },
    "papermill": {
     "duration": 0.060933,
     "end_time": "2025-05-01T18:24:19.767599",
     "exception": false,
     "start_time": "2025-05-01T18:24:19.706666",
     "status": "completed"
    },
    "tags": []
   },
   "outputs": [
    {
     "data": {
      "application/vnd.microsoft.datawrangler.viewer.v0+json": {
       "columns": [
        {
         "name": "index",
         "rawType": "object",
         "type": "string"
        },
        {
         "name": "instant",
         "rawType": "float64",
         "type": "float"
        },
        {
         "name": "datetime",
         "rawType": "object",
         "type": "unknown"
        },
        {
         "name": "season",
         "rawType": "float64",
         "type": "float"
        },
        {
         "name": "month",
         "rawType": "float64",
         "type": "float"
        },
        {
         "name": "hour",
         "rawType": "float64",
         "type": "float"
        },
        {
         "name": "weekday",
         "rawType": "float64",
         "type": "float"
        },
        {
         "name": "temp",
         "rawType": "float64",
         "type": "float"
        },
        {
         "name": "atemp",
         "rawType": "float64",
         "type": "float"
        },
        {
         "name": "humidity",
         "rawType": "float64",
         "type": "float"
        },
        {
         "name": "windspeed",
         "rawType": "float64",
         "type": "float"
        },
        {
         "name": "casual",
         "rawType": "float64",
         "type": "float"
        },
        {
         "name": "registered",
         "rawType": "float64",
         "type": "float"
        },
        {
         "name": "count",
         "rawType": "float64",
         "type": "float"
        }
       ],
       "conversionMethod": "pd.DataFrame",
       "ref": "4eb104bf-4224-4aca-8ece-8c69a3fc2765",
       "rows": [
        [
         "count",
         "17379.0",
         "17379",
         "17379.0",
         "17379.0",
         "17379.0",
         "17379.0",
         "17379.0",
         "17379.0",
         "17379.0",
         "17379.0",
         "17379.0",
         "17379.0",
         "17379.0"
        ],
        [
         "mean",
         "8690.0",
         "2012-01-02 04:08:34.552045568",
         "2.5016399102364923",
         "6.537775476149376",
         "11.546751826917545",
         "3.003682605443351",
         "0.4969871684216583",
         "0.4757751021347604",
         "0.6272288394038783",
         "0.1900976063064618",
         "35.67621842453536",
         "153.78686920996606",
         "189.46308763450142"
        ],
        [
         "min",
         "1.0",
         "2011-01-01 00:00:00",
         "1.0",
         "1.0",
         "0.0",
         "0.0",
         "0.02",
         "0.0",
         "0.0",
         "0.0",
         "0.0",
         "0.0",
         "1.0"
        ],
        [
         "25%",
         "4345.5",
         "2011-07-04 00:00:00",
         "2.0",
         "4.0",
         "6.0",
         "1.0",
         "0.34",
         "0.3333",
         "0.48",
         "0.1045",
         "4.0",
         "34.0",
         "40.0"
        ],
        [
         "50%",
         "8690.0",
         "2012-01-02 00:00:00",
         "3.0",
         "7.0",
         "12.0",
         "3.0",
         "0.5",
         "0.4848",
         "0.63",
         "0.194",
         "17.0",
         "115.0",
         "142.0"
        ],
        [
         "75%",
         "13034.5",
         "2012-07-02 00:00:00",
         "3.0",
         "10.0",
         "18.0",
         "5.0",
         "0.66",
         "0.6212",
         "0.78",
         "0.2537",
         "48.0",
         "220.0",
         "281.0"
        ],
        [
         "max",
         "17379.0",
         "2012-12-31 00:00:00",
         "4.0",
         "12.0",
         "23.0",
         "6.0",
         "1.0",
         "1.0",
         "1.0",
         "0.8507",
         "367.0",
         "886.0",
         "977.0"
        ],
        [
         "std",
         "5017.029499614288",
         null,
         "1.1069181394481897",
         "3.4387757137502772",
         "6.914405095264639",
         "2.005771456110959",
         "0.19255612124972407",
         "0.17185021563536587",
         "0.1929298340629125",
         "0.12234022857279413",
         "49.305030387053186",
         "151.35728591258317",
         "181.38759909186527"
        ]
       ],
       "shape": {
        "columns": 13,
        "rows": 8
       }
      },
      "text/html": [
       "<div>\n",
       "<style scoped>\n",
       "    .dataframe tbody tr th:only-of-type {\n",
       "        vertical-align: middle;\n",
       "    }\n",
       "\n",
       "    .dataframe tbody tr th {\n",
       "        vertical-align: top;\n",
       "    }\n",
       "\n",
       "    .dataframe thead th {\n",
       "        text-align: right;\n",
       "    }\n",
       "</style>\n",
       "<table border=\"1\" class=\"dataframe\">\n",
       "  <thead>\n",
       "    <tr style=\"text-align: right;\">\n",
       "      <th></th>\n",
       "      <th>instant</th>\n",
       "      <th>datetime</th>\n",
       "      <th>season</th>\n",
       "      <th>month</th>\n",
       "      <th>hour</th>\n",
       "      <th>weekday</th>\n",
       "      <th>temp</th>\n",
       "      <th>atemp</th>\n",
       "      <th>humidity</th>\n",
       "      <th>windspeed</th>\n",
       "      <th>casual</th>\n",
       "      <th>registered</th>\n",
       "      <th>count</th>\n",
       "    </tr>\n",
       "  </thead>\n",
       "  <tbody>\n",
       "    <tr>\n",
       "      <th>count</th>\n",
       "      <td>17379.0000</td>\n",
       "      <td>17379</td>\n",
       "      <td>17379.000000</td>\n",
       "      <td>17379.000000</td>\n",
       "      <td>17379.000000</td>\n",
       "      <td>17379.000000</td>\n",
       "      <td>17379.000000</td>\n",
       "      <td>17379.000000</td>\n",
       "      <td>17379.000000</td>\n",
       "      <td>17379.000000</td>\n",
       "      <td>17379.000000</td>\n",
       "      <td>17379.000000</td>\n",
       "      <td>17379.000000</td>\n",
       "    </tr>\n",
       "    <tr>\n",
       "      <th>mean</th>\n",
       "      <td>8690.0000</td>\n",
       "      <td>2012-01-02 04:08:34.552045568</td>\n",
       "      <td>2.501640</td>\n",
       "      <td>6.537775</td>\n",
       "      <td>11.546752</td>\n",
       "      <td>3.003683</td>\n",
       "      <td>0.496987</td>\n",
       "      <td>0.475775</td>\n",
       "      <td>0.627229</td>\n",
       "      <td>0.190098</td>\n",
       "      <td>35.676218</td>\n",
       "      <td>153.786869</td>\n",
       "      <td>189.463088</td>\n",
       "    </tr>\n",
       "    <tr>\n",
       "      <th>min</th>\n",
       "      <td>1.0000</td>\n",
       "      <td>2011-01-01 00:00:00</td>\n",
       "      <td>1.000000</td>\n",
       "      <td>1.000000</td>\n",
       "      <td>0.000000</td>\n",
       "      <td>0.000000</td>\n",
       "      <td>0.020000</td>\n",
       "      <td>0.000000</td>\n",
       "      <td>0.000000</td>\n",
       "      <td>0.000000</td>\n",
       "      <td>0.000000</td>\n",
       "      <td>0.000000</td>\n",
       "      <td>1.000000</td>\n",
       "    </tr>\n",
       "    <tr>\n",
       "      <th>25%</th>\n",
       "      <td>4345.5000</td>\n",
       "      <td>2011-07-04 00:00:00</td>\n",
       "      <td>2.000000</td>\n",
       "      <td>4.000000</td>\n",
       "      <td>6.000000</td>\n",
       "      <td>1.000000</td>\n",
       "      <td>0.340000</td>\n",
       "      <td>0.333300</td>\n",
       "      <td>0.480000</td>\n",
       "      <td>0.104500</td>\n",
       "      <td>4.000000</td>\n",
       "      <td>34.000000</td>\n",
       "      <td>40.000000</td>\n",
       "    </tr>\n",
       "    <tr>\n",
       "      <th>50%</th>\n",
       "      <td>8690.0000</td>\n",
       "      <td>2012-01-02 00:00:00</td>\n",
       "      <td>3.000000</td>\n",
       "      <td>7.000000</td>\n",
       "      <td>12.000000</td>\n",
       "      <td>3.000000</td>\n",
       "      <td>0.500000</td>\n",
       "      <td>0.484800</td>\n",
       "      <td>0.630000</td>\n",
       "      <td>0.194000</td>\n",
       "      <td>17.000000</td>\n",
       "      <td>115.000000</td>\n",
       "      <td>142.000000</td>\n",
       "    </tr>\n",
       "    <tr>\n",
       "      <th>75%</th>\n",
       "      <td>13034.5000</td>\n",
       "      <td>2012-07-02 00:00:00</td>\n",
       "      <td>3.000000</td>\n",
       "      <td>10.000000</td>\n",
       "      <td>18.000000</td>\n",
       "      <td>5.000000</td>\n",
       "      <td>0.660000</td>\n",
       "      <td>0.621200</td>\n",
       "      <td>0.780000</td>\n",
       "      <td>0.253700</td>\n",
       "      <td>48.000000</td>\n",
       "      <td>220.000000</td>\n",
       "      <td>281.000000</td>\n",
       "    </tr>\n",
       "    <tr>\n",
       "      <th>max</th>\n",
       "      <td>17379.0000</td>\n",
       "      <td>2012-12-31 00:00:00</td>\n",
       "      <td>4.000000</td>\n",
       "      <td>12.000000</td>\n",
       "      <td>23.000000</td>\n",
       "      <td>6.000000</td>\n",
       "      <td>1.000000</td>\n",
       "      <td>1.000000</td>\n",
       "      <td>1.000000</td>\n",
       "      <td>0.850700</td>\n",
       "      <td>367.000000</td>\n",
       "      <td>886.000000</td>\n",
       "      <td>977.000000</td>\n",
       "    </tr>\n",
       "    <tr>\n",
       "      <th>std</th>\n",
       "      <td>5017.0295</td>\n",
       "      <td>NaN</td>\n",
       "      <td>1.106918</td>\n",
       "      <td>3.438776</td>\n",
       "      <td>6.914405</td>\n",
       "      <td>2.005771</td>\n",
       "      <td>0.192556</td>\n",
       "      <td>0.171850</td>\n",
       "      <td>0.192930</td>\n",
       "      <td>0.122340</td>\n",
       "      <td>49.305030</td>\n",
       "      <td>151.357286</td>\n",
       "      <td>181.387599</td>\n",
       "    </tr>\n",
       "  </tbody>\n",
       "</table>\n",
       "</div>"
      ],
      "text/plain": [
       "          instant                       datetime        season         month  \\\n",
       "count  17379.0000                          17379  17379.000000  17379.000000   \n",
       "mean    8690.0000  2012-01-02 04:08:34.552045568      2.501640      6.537775   \n",
       "min        1.0000            2011-01-01 00:00:00      1.000000      1.000000   \n",
       "25%     4345.5000            2011-07-04 00:00:00      2.000000      4.000000   \n",
       "50%     8690.0000            2012-01-02 00:00:00      3.000000      7.000000   \n",
       "75%    13034.5000            2012-07-02 00:00:00      3.000000     10.000000   \n",
       "max    17379.0000            2012-12-31 00:00:00      4.000000     12.000000   \n",
       "std     5017.0295                            NaN      1.106918      3.438776   \n",
       "\n",
       "               hour       weekday          temp         atemp      humidity  \\\n",
       "count  17379.000000  17379.000000  17379.000000  17379.000000  17379.000000   \n",
       "mean      11.546752      3.003683      0.496987      0.475775      0.627229   \n",
       "min        0.000000      0.000000      0.020000      0.000000      0.000000   \n",
       "25%        6.000000      1.000000      0.340000      0.333300      0.480000   \n",
       "50%       12.000000      3.000000      0.500000      0.484800      0.630000   \n",
       "75%       18.000000      5.000000      0.660000      0.621200      0.780000   \n",
       "max       23.000000      6.000000      1.000000      1.000000      1.000000   \n",
       "std        6.914405      2.005771      0.192556      0.171850      0.192930   \n",
       "\n",
       "          windspeed        casual    registered         count  \n",
       "count  17379.000000  17379.000000  17379.000000  17379.000000  \n",
       "mean       0.190098     35.676218    153.786869    189.463088  \n",
       "min        0.000000      0.000000      0.000000      1.000000  \n",
       "25%        0.104500      4.000000     34.000000     40.000000  \n",
       "50%        0.194000     17.000000    115.000000    142.000000  \n",
       "75%        0.253700     48.000000    220.000000    281.000000  \n",
       "max        0.850700    367.000000    886.000000    977.000000  \n",
       "std        0.122340     49.305030    151.357286    181.387599  "
      ]
     },
     "execution_count": 20,
     "metadata": {},
     "output_type": "execute_result"
    }
   ],
   "source": [
    "bike_dataset.describe()"
   ]
  },
  {
   "cell_type": "markdown",
   "id": "dac232e3",
   "metadata": {},
   "source": [
    "# 4. Cleaning data"
   ]
  },
  {
   "cell_type": "code",
   "execution_count": 21,
   "id": "64f554d1",
   "metadata": {},
   "outputs": [],
   "source": [
    "bike_dataset.drop(columns=[\"instant\"],inplace=True)"
   ]
  },
  {
   "cell_type": "code",
   "execution_count": 22,
   "id": "746f172c",
   "metadata": {
    "execution": {
     "iopub.execute_input": "2025-05-01T18:24:19.804813Z",
     "iopub.status.busy": "2025-05-01T18:24:19.804442Z",
     "iopub.status.idle": "2025-05-01T18:24:19.809727Z",
     "shell.execute_reply": "2025-05-01T18:24:19.808675Z"
    },
    "papermill": {
     "duration": 0.014496,
     "end_time": "2025-05-01T18:24:19.811351",
     "exception": false,
     "start_time": "2025-05-01T18:24:19.796855",
     "status": "completed"
    },
    "tags": []
   },
   "outputs": [
    {
     "name": "stdout",
     "output_type": "stream",
     "text": [
      "16\n"
     ]
    }
   ],
   "source": [
    "print(len(bike_dataset.columns))\n"
   ]
  },
  {
   "cell_type": "markdown",
   "id": "4688d30b",
   "metadata": {},
   "source": [
    "correlation matrix showing linear relationships between all pairs of numerical variables"
   ]
  },
  {
   "cell_type": "code",
   "execution_count": 23,
   "id": "c73fd95f",
   "metadata": {
    "execution": {
     "iopub.execute_input": "2025-05-01T18:24:19.824442Z",
     "iopub.status.busy": "2025-05-01T18:24:19.824100Z",
     "iopub.status.idle": "2025-05-01T18:24:20.948686Z",
     "shell.execute_reply": "2025-05-01T18:24:20.947640Z"
    },
    "papermill": {
     "duration": 1.13555,
     "end_time": "2025-05-01T18:24:20.952994",
     "exception": false,
     "start_time": "2025-05-01T18:24:19.817444",
     "status": "completed"
    },
    "tags": []
   },
   "outputs": [
    {
     "data": {
      "image/png": "[encoded data removed]",
      "text/plain": [
       "<Figure size 1500x1500 with 2 Axes>"
      ]
     },
     "metadata": {},
     "output_type": "display_data"
    }
   ],
   "source": [
    "numeric_data = bike_dataset.select_dtypes(include=['int64', 'float64'])\n",
    "correlation_values = numeric_data.corr()\n",
    "plt.figure(figsize=(15,15))\n",
    "sns.heatmap(correlation_values,cbar=True,square=True,annot=True,annot_kws={'size':8},cmap='Greens')\n",
    "plt.show() \n"
   ]
  },
  {
   "cell_type": "code",
   "execution_count": 24,
   "id": "24e4438c",
   "metadata": {
    "execution": {
     "iopub.execute_input": "2025-05-01T18:24:20.975266Z",
     "iopub.status.busy": "2025-05-01T18:24:20.974251Z",
     "iopub.status.idle": "2025-05-01T18:24:22.595129Z",
     "shell.execute_reply": "2025-05-01T18:24:22.593746Z"
    },
    "papermill": {
     "duration": 1.634389,
     "end_time": "2025-05-01T18:24:22.597773",
     "exception": false,
     "start_time": "2025-05-01T18:24:20.963384",
     "status": "completed"
    },
    "tags": []
   },
   "outputs": [
    {
     "data": {
      "image/png": "[encoded data removed]",
      "text/plain": [
       "<Figure size 1800x1200 with 7 Axes>"
      ]
     },
     "metadata": {},
     "output_type": "display_data"
    }
   ],
   "source": [
    "numeric_cols = ['temp', 'atemp', 'humidity', 'windspeed', 'casual', 'registered', 'count']\n",
    "\n",
    "plt.figure(figsize=(18, 12))\n",
    "\n",
    "for i, col in enumerate(numeric_cols, 1):\n",
    "    plt.subplot(3, 3, i)\n",
    "    sns.boxplot(x=bike_dataset[col], color='skyblue')\n",
    "    plt.title(f'Boxplot for {col}')\n",
    "    plt.xlabel(col)\n",
    "\n",
    "plt.tight_layout()\n",
    "plt.show()\n"
   ]
  },
  {
   "cell_type": "markdown",
   "id": "cdb20440",
   "metadata": {},
   "source": [
    "removing outliers"
   ]
  },
  {
   "cell_type": "code",
   "execution_count": 25,
   "id": "12355766",
   "metadata": {
    "execution": {
     "iopub.execute_input": "2025-05-01T18:24:22.622854Z",
     "iopub.status.busy": "2025-05-01T18:24:22.622542Z",
     "iopub.status.idle": "2025-05-01T18:24:22.635602Z",
     "shell.execute_reply": "2025-05-01T18:24:22.634460Z"
    },
    "papermill": {
     "duration": 0.02762,
     "end_time": "2025-05-01T18:24:22.637440",
     "exception": false,
     "start_time": "2025-05-01T18:24:22.609820",
     "status": "completed"
    },
    "tags": []
   },
   "outputs": [],
   "source": [
    "#check outlier\n",
    "numeric_cols = bike_dataset.select_dtypes(include=['int64', 'float64']).columns\n",
    "Q1 = bike_dataset['count'].quantile(0.10)\n",
    "Q3 = bike_dataset['count'].quantile(0.85)\n",
    "IQR = Q3 - Q1\n",
    "lower_bound = Q1 - 1.5 * IQR\n",
    "upper_bound = Q3 + 1.5 * IQR\n",
    "outliers = bike_dataset[(bike_dataset['count'] < lower_bound) | (bike_dataset['count'] > upper_bound)]\n",
    "# outliers.style.background_gradient(cmap='Greys')"
   ]
  },
  {
   "cell_type": "code",
   "execution_count": 26,
   "id": "e6abcb6c",
   "metadata": {
    "execution": {
     "iopub.execute_input": "2025-05-01T18:24:22.660709Z",
     "iopub.status.busy": "2025-05-01T18:24:22.660220Z",
     "iopub.status.idle": "2025-05-01T18:24:22.850151Z",
     "shell.execute_reply": "2025-05-01T18:24:22.849067Z"
    },
    "papermill": {
     "duration": 0.203126,
     "end_time": "2025-05-01T18:24:22.851868",
     "exception": false,
     "start_time": "2025-05-01T18:24:22.648742",
     "status": "completed"
    },
    "tags": []
   },
   "outputs": [
    {
     "data": {
      "image/png": "[encoded data removed]",
      "text/plain": [
       "<Figure size 1000x500 with 1 Axes>"
      ]
     },
     "metadata": {},
     "output_type": "display_data"
    }
   ],
   "source": [
    "plt.figure(figsize=(10, 5))\n",
    "sns.boxplot(x=bike_dataset['count'], color='skyblue')\n",
    "plt.title('Boxplot to Detect Outliers in Count')\n",
    "plt.xlabel('count')\n",
    "plt.show()"
   ]
  },
  {
   "cell_type": "code",
   "execution_count": 27,
   "id": "93a93414",
   "metadata": {
    "execution": {
     "iopub.execute_input": "2025-05-01T18:24:22.876746Z",
     "iopub.status.busy": "2025-05-01T18:24:22.876268Z",
     "iopub.status.idle": "2025-05-01T18:24:22.885405Z",
     "shell.execute_reply": "2025-05-01T18:24:22.884238Z"
    },
    "papermill": {
     "duration": 0.023833,
     "end_time": "2025-05-01T18:24:22.887026",
     "exception": false,
     "start_time": "2025-05-01T18:24:22.863193",
     "status": "completed"
    },
    "tags": []
   },
   "outputs": [
    {
     "name": "stdout",
     "output_type": "stream",
     "text": [
      "shape after outliers removal : (17367, 16)\n"
     ]
    }
   ],
   "source": [
    "#removing outliers\n",
    "bike_dataset = bike_dataset[(bike_dataset['count'] >= lower_bound) & (bike_dataset['count'] <= upper_bound)]\n",
    "print(\"shape after outliers removal :\",bike_dataset.shape)\n",
    "#17,099 rows from ~17,379 → 280 rows removed"
   ]
  },
  {
   "cell_type": "code",
   "execution_count": 28,
   "id": "cdf92e62",
   "metadata": {
    "execution": {
     "iopub.execute_input": "2025-05-01T18:24:22.912061Z",
     "iopub.status.busy": "2025-05-01T18:24:22.911166Z",
     "iopub.status.idle": "2025-05-01T18:24:23.092430Z",
     "shell.execute_reply": "2025-05-01T18:24:23.091466Z"
    },
    "papermill": {
     "duration": 0.195809,
     "end_time": "2025-05-01T18:24:23.094102",
     "exception": false,
     "start_time": "2025-05-01T18:24:22.898293",
     "status": "completed"
    },
    "tags": []
   },
   "outputs": [
    {
     "data": {
      "image/png": "[encoded data removed]",
      "text/plain": [
       "<Figure size 1000x500 with 1 Axes>"
      ]
     },
     "metadata": {},
     "output_type": "display_data"
    }
   ],
   "source": [
    " plt.figure(figsize=(10, 5))\n",
    " sns.boxplot(x=bike_dataset['count'], color='skyblue')\n",
    " plt.title('Boxplot after removing outliers')\n",
    " plt.xlabel('count')\n",
    " plt.show()"
   ]
  },
  {
   "cell_type": "code",
   "execution_count": 29,
   "id": "35766365",
   "metadata": {
    "execution": {
     "iopub.execute_input": "2025-05-01T18:24:23.121334Z",
     "iopub.status.busy": "2025-05-01T18:24:23.120991Z",
     "iopub.status.idle": "2025-05-01T18:24:23.307471Z",
     "shell.execute_reply": "2025-05-01T18:24:23.306459Z"
    },
    "papermill": {
     "duration": 0.201671,
     "end_time": "2025-05-01T18:24:23.309218",
     "exception": false,
     "start_time": "2025-05-01T18:24:23.107547",
     "status": "completed"
    },
    "tags": []
   },
   "outputs": [
    {
     "data": {
      "image/png": "[encoded data removed]",
      "text/plain": [
       "<Figure size 1000x500 with 1 Axes>"
      ]
     },
     "metadata": {},
     "output_type": "display_data"
    }
   ],
   "source": [
    " plt.figure(figsize=(10, 5))\n",
    " sns.boxplot(x=bike_dataset['registered'], color='skyblue')\n",
    " plt.title('Boxplot to Detect Outliers in registered')\n",
    " plt.xlabel('registered')\n",
    " plt.show()"
   ]
  },
  {
   "cell_type": "code",
   "execution_count": 30,
   "id": "3e1bc943",
   "metadata": {
    "execution": {
     "iopub.execute_input": "2025-05-01T18:24:23.333873Z",
     "iopub.status.busy": "2025-05-01T18:24:23.333064Z",
     "iopub.status.idle": "2025-05-01T18:24:23.343314Z",
     "shell.execute_reply": "2025-05-01T18:24:23.342445Z"
    },
    "papermill": {
     "duration": 0.024289,
     "end_time": "2025-05-01T18:24:23.345082",
     "exception": false,
     "start_time": "2025-05-01T18:24:23.320793",
     "status": "completed"
    },
    "tags": []
   },
   "outputs": [],
   "source": [
    "\n",
    "Q1 = bike_dataset['registered'].quantile(0.25)\n",
    "Q3 = bike_dataset['registered'].quantile(0.80)\n",
    "IQR = Q3 - Q1\n",
    "\n",
    "\n",
    "lower_bound = Q1 - 1.5 * IQR\n",
    "upper_bound = Q3 + 1.5 * IQR\n",
    "\n",
    "\n",
    "outliers = bike_dataset[(bike_dataset['registered'] >= lower_bound) & (bike_dataset['registered'] <= upper_bound)]\n"
   ]
  },
  {
   "cell_type": "code",
   "execution_count": 31,
   "id": "c452dbe6",
   "metadata": {
    "execution": {
     "iopub.execute_input": "2025-05-01T18:24:23.371159Z",
     "iopub.status.busy": "2025-05-01T18:24:23.370849Z",
     "iopub.status.idle": "2025-05-01T18:24:23.378920Z",
     "shell.execute_reply": "2025-05-01T18:24:23.377807Z"
    },
    "papermill": {
     "duration": 0.023151,
     "end_time": "2025-05-01T18:24:23.380478",
     "exception": false,
     "start_time": "2025-05-01T18:24:23.357327",
     "status": "completed"
    },
    "tags": []
   },
   "outputs": [
    {
     "name": "stdout",
     "output_type": "stream",
     "text": [
      "shape after outliers removal : (16930, 16)\n"
     ]
    }
   ],
   "source": [
    "bike_dataset = bike_dataset[(bike_dataset['registered'] >= lower_bound) & (bike_dataset['registered'] <= upper_bound)]\n",
    "print(\"shape after outliers removal :\",bike_dataset.shape)"
   ]
  },
  {
   "cell_type": "code",
   "execution_count": 32,
   "id": "27118267",
   "metadata": {
    "execution": {
     "iopub.execute_input": "2025-05-01T18:24:23.404972Z",
     "iopub.status.busy": "2025-05-01T18:24:23.404625Z",
     "iopub.status.idle": "2025-05-01T18:24:23.586205Z",
     "shell.execute_reply": "2025-05-01T18:24:23.585103Z"
    },
    "papermill": {
     "duration": 0.196118,
     "end_time": "2025-05-01T18:24:23.588041",
     "exception": false,
     "start_time": "2025-05-01T18:24:23.391923",
     "status": "completed"
    },
    "tags": []
   },
   "outputs": [
    {
     "data": {
      "image/png": "[encoded data removed]",
      "text/plain": [
       "<Figure size 1000x500 with 1 Axes>"
      ]
     },
     "metadata": {},
     "output_type": "display_data"
    }
   ],
   "source": [
    " plt.figure(figsize=(10, 5))\n",
    " sns.boxplot(x=bike_dataset['registered'], color='skyblue')\n",
    " plt.title('Boxplot after removing outliers')\n",
    " plt.xlabel('registered')\n",
    " plt.show()"
   ]
  },
  {
   "cell_type": "code",
   "execution_count": 33,
   "id": "4b98df58",
   "metadata": {
    "execution": {
     "iopub.execute_input": "2025-05-01T18:24:23.614479Z",
     "iopub.status.busy": "2025-05-01T18:24:23.614144Z",
     "iopub.status.idle": "2025-05-01T18:24:23.818015Z",
     "shell.execute_reply": "2025-05-01T18:24:23.816963Z"
    },
    "papermill": {
     "duration": 0.218212,
     "end_time": "2025-05-01T18:24:23.819646",
     "exception": false,
     "start_time": "2025-05-01T18:24:23.601434",
     "status": "completed"
    },
    "tags": []
   },
   "outputs": [
    {
     "data": {
      "image/png": "[encoded data removed]",
      "text/plain": [
       "<Figure size 1000x500 with 1 Axes>"
      ]
     },
     "metadata": {},
     "output_type": "display_data"
    }
   ],
   "source": [
    " plt.figure(figsize=(10, 5))\n",
    " sns.boxplot(x=bike_dataset['casual'], color='skyblue')\n",
    " plt.title('Boxplot to Detect Outliers in casual')\n",
    " plt.xlabel('casual')\n",
    " plt.show()"
   ]
  },
  {
   "cell_type": "code",
   "execution_count": 34,
   "id": "ccb04f5f",
   "metadata": {
    "execution": {
     "iopub.execute_input": "2025-05-01T18:24:23.845300Z",
     "iopub.status.busy": "2025-05-01T18:24:23.844988Z",
     "iopub.status.idle": "2025-05-01T18:24:23.854607Z",
     "shell.execute_reply": "2025-05-01T18:24:23.853716Z"
    },
    "papermill": {
     "duration": 0.024498,
     "end_time": "2025-05-01T18:24:23.856229",
     "exception": false,
     "start_time": "2025-05-01T18:24:23.831731",
     "status": "completed"
    },
    "tags": []
   },
   "outputs": [],
   "source": [
    "Q1 = bike_dataset['casual'].quantile(0.15)\n",
    "Q3 = bike_dataset['casual'].quantile(0.85)\n",
    "IQR = Q3 - Q1\n",
    "\n",
    "\n",
    "lower_bound = Q1 - 1.5 * IQR\n",
    "upper_bound = Q3 + 1.5 * IQR\n",
    "\n",
    "\n",
    "outliers = bike_dataset[(bike_dataset['casual'] >= lower_bound) & (bike_dataset['casual'] <= upper_bound)]\n"
   ]
  },
  {
   "cell_type": "code",
   "execution_count": 35,
   "id": "2ceb11a3",
   "metadata": {
    "execution": {
     "iopub.execute_input": "2025-05-01T18:24:23.882054Z",
     "iopub.status.busy": "2025-05-01T18:24:23.881734Z",
     "iopub.status.idle": "2025-05-01T18:24:23.889638Z",
     "shell.execute_reply": "2025-05-01T18:24:23.888621Z"
    },
    "papermill": {
     "duration": 0.022926,
     "end_time": "2025-05-01T18:24:23.891216",
     "exception": false,
     "start_time": "2025-05-01T18:24:23.868290",
     "status": "completed"
    },
    "tags": []
   },
   "outputs": [
    {
     "name": "stdout",
     "output_type": "stream",
     "text": [
      "shape after outliers removal : (16364, 16)\n"
     ]
    }
   ],
   "source": [
    " bike_dataset = bike_dataset[(bike_dataset['casual'] >= lower_bound) & (bike_dataset['casual'] <= upper_bound)]\n",
    " print(\"shape after outliers removal :\",bike_dataset.shape)"
   ]
  },
  {
   "cell_type": "code",
   "execution_count": 36,
   "id": "565a7b71",
   "metadata": {
    "execution": {
     "iopub.execute_input": "2025-05-01T18:24:23.917009Z",
     "iopub.status.busy": "2025-05-01T18:24:23.916700Z",
     "iopub.status.idle": "2025-05-01T18:24:24.125761Z",
     "shell.execute_reply": "2025-05-01T18:24:24.124755Z"
    },
    "papermill": {
     "duration": 0.223745,
     "end_time": "2025-05-01T18:24:24.127430",
     "exception": false,
     "start_time": "2025-05-01T18:24:23.903685",
     "status": "completed"
    },
    "tags": []
   },
   "outputs": [
    {
     "data": {
      "image/png": "[encoded data removed]",
      "text/plain": [
       "<Figure size 1000x500 with 1 Axes>"
      ]
     },
     "metadata": {},
     "output_type": "display_data"
    }
   ],
   "source": [
    " plt.figure(figsize=(10, 5))\n",
    " sns.boxplot(x=bike_dataset['casual'], color='skyblue')\n",
    " plt.title('Boxplot after removing outliers')\n",
    " plt.xlabel('casual')\n",
    " plt.show()"
   ]
  },
  {
   "cell_type": "code",
   "execution_count": 37,
   "id": "5404193a",
   "metadata": {
    "execution": {
     "iopub.execute_input": "2025-05-01T18:24:24.154797Z",
     "iopub.status.busy": "2025-05-01T18:24:24.154461Z",
     "iopub.status.idle": "2025-05-01T18:24:24.348563Z",
     "shell.execute_reply": "2025-05-01T18:24:24.347622Z"
    },
    "papermill": {
     "duration": 0.210189,
     "end_time": "2025-05-01T18:24:24.350283",
     "exception": false,
     "start_time": "2025-05-01T18:24:24.140094",
     "status": "completed"
    },
    "tags": []
   },
   "outputs": [
    {
     "data": {
      "image/png": "[encoded data removed]",
      "text/plain": [
       "<Figure size 1000x500 with 1 Axes>"
      ]
     },
     "metadata": {},
     "output_type": "display_data"
    }
   ],
   "source": [
    "plt.figure(figsize=(10, 5))\n",
    "sns.boxplot(x=bike_dataset['windspeed'], color='skyblue')\n",
    "plt.title('Boxplot to Detect Outliers in windspeed')\n",
    "plt.xlabel('windspeed')\n",
    "plt.show()\n",
    "\n"
   ]
  },
  {
   "cell_type": "code",
   "execution_count": 38,
   "id": "b525b500",
   "metadata": {
    "execution": {
     "iopub.execute_input": "2025-05-01T18:24:24.384036Z",
     "iopub.status.busy": "2025-05-01T18:24:24.383714Z",
     "iopub.status.idle": "2025-05-01T18:24:24.389955Z",
     "shell.execute_reply": "2025-05-01T18:24:24.388759Z"
    },
    "papermill": {
     "duration": 0.025508,
     "end_time": "2025-05-01T18:24:24.391892",
     "exception": false,
     "start_time": "2025-05-01T18:24:24.366384",
     "status": "completed"
    },
    "tags": []
   },
   "outputs": [],
   "source": [
    "def remove_outliers_iteratively(bike_dataset):\n",
    "    prev_shape = None\n",
    "    while prev_shape != bike_dataset.shape:\n",
    "        prev_shape = bike_dataset.shape\n",
    "        Q1 = bike_dataset['windspeed'].quantile(0.20)\n",
    "        Q3 = bike_dataset['windspeed'].quantile(0.80)\n",
    "        IQR = Q3 - Q1\n",
    "        lower = Q1 - 1.5 * IQR\n",
    "        upper = Q3 + 1.5 * IQR\n",
    "        bike_dataset = bike_dataset[\n",
    "            (bike_dataset['windspeed'] >= lower) & \n",
    "            (bike_dataset['windspeed'] <= upper)\n",
    "        ]\n",
    "    return bike_dataset"
   ]
  },
  {
   "cell_type": "markdown",
   "id": "2c10cc8c",
   "metadata": {},
   "source": [
    "after outliers"
   ]
  },
  {
   "cell_type": "code",
   "execution_count": 39,
   "id": "8085dec1",
   "metadata": {
    "execution": {
     "iopub.execute_input": "2025-05-01T18:24:24.423035Z",
     "iopub.status.busy": "2025-05-01T18:24:24.422383Z",
     "iopub.status.idle": "2025-05-01T18:24:24.436922Z",
     "shell.execute_reply": "2025-05-01T18:24:24.435479Z"
    },
    "papermill": {
     "duration": 0.032106,
     "end_time": "2025-05-01T18:24:24.438582",
     "exception": false,
     "start_time": "2025-05-01T18:24:24.406476",
     "status": "completed"
    },
    "tags": []
   },
   "outputs": [
    {
     "name": "stdout",
     "output_type": "stream",
     "text": [
      "shape after outliers removal : (16259, 16)\n"
     ]
    }
   ],
   "source": [
    "bike_dataset = remove_outliers_iteratively(bike_dataset)\n",
    "print(\"shape after outliers removal :\",bike_dataset.shape)"
   ]
  },
  {
   "cell_type": "code",
   "execution_count": 40,
   "id": "231ff9cd",
   "metadata": {
    "execution": {
     "iopub.execute_input": "2025-05-01T18:24:24.471823Z",
     "iopub.status.busy": "2025-05-01T18:24:24.471478Z",
     "iopub.status.idle": "2025-05-01T18:24:24.684055Z",
     "shell.execute_reply": "2025-05-01T18:24:24.682325Z"
    },
    "papermill": {
     "duration": 0.231203,
     "end_time": "2025-05-01T18:24:24.685891",
     "exception": false,
     "start_time": "2025-05-01T18:24:24.454688",
     "status": "completed"
    },
    "tags": []
   },
   "outputs": [
    {
     "data": {
      "image/png": "[encoded data removed]",
      "text/plain": [
       "<Figure size 1000x500 with 1 Axes>"
      ]
     },
     "metadata": {},
     "output_type": "display_data"
    }
   ],
   "source": [
    " plt.figure(figsize=(10, 5))\n",
    " sns.boxplot(x=bike_dataset['windspeed'], color='skyblue')\n",
    " plt.title('Boxplot after removing outliers')\n",
    " plt.xlabel('windspeed')\n",
    " plt.show()"
   ]
  },
  {
   "cell_type": "markdown",
   "id": "264b9478",
   "metadata": {},
   "source": [
    "clarifying rush hour column"
   ]
  },
  {
   "cell_type": "code",
   "execution_count": 41,
   "id": "c8048c99",
   "metadata": {
    "execution": {
     "iopub.execute_input": "2025-05-01T18:24:24.716505Z",
     "iopub.status.busy": "2025-05-01T18:24:24.716123Z",
     "iopub.status.idle": "2025-05-01T18:24:25.114457Z",
     "shell.execute_reply": "2025-05-01T18:24:25.113447Z"
    },
    "papermill": {
     "duration": 0.416297,
     "end_time": "2025-05-01T18:24:25.116572",
     "exception": false,
     "start_time": "2025-05-01T18:24:24.700275",
     "status": "completed"
    },
    "tags": []
   },
   "outputs": [
    {
     "data": {
      "text/html": [
       "<style type=\"text/css\">\n",
       "#T_b652e_row0_col1, #T_b652e_row0_col3, #T_b652e_row0_col4, #T_b652e_row0_col6, #T_b652e_row0_col12, #T_b652e_row0_col16, #T_b652e_row1_col1, #T_b652e_row1_col3, #T_b652e_row1_col6, #T_b652e_row1_col9, #T_b652e_row1_col10, #T_b652e_row1_col12, #T_b652e_row1_col16, #T_b652e_row2_col1, #T_b652e_row2_col3, #T_b652e_row2_col6, #T_b652e_row2_col9, #T_b652e_row2_col10, #T_b652e_row2_col12, #T_b652e_row2_col16, #T_b652e_row3_col1, #T_b652e_row3_col3, #T_b652e_row3_col6, #T_b652e_row3_col11, #T_b652e_row3_col12, #T_b652e_row3_col16, #T_b652e_row4_col1, #T_b652e_row4_col3, #T_b652e_row4_col6, #T_b652e_row4_col11, #T_b652e_row4_col12, #T_b652e_row4_col13, #T_b652e_row4_col14, #T_b652e_row4_col15, #T_b652e_row4_col16 {\n",
       "  background-color: #f7fcf5;\n",
       "  color: #000000;\n",
       "}\n",
       "#T_b652e_row0_col9, #T_b652e_row0_col10, #T_b652e_row0_col11, #T_b652e_row1_col13, #T_b652e_row1_col14, #T_b652e_row1_col15, #T_b652e_row3_col9, #T_b652e_row3_col10, #T_b652e_row4_col4, #T_b652e_row4_col9, #T_b652e_row4_col10 {\n",
       "  background-color: #00441b;\n",
       "  color: #f1f1f1;\n",
       "}\n",
       "#T_b652e_row0_col13, #T_b652e_row3_col13 {\n",
       "  background-color: #a0d99b;\n",
       "  color: #000000;\n",
       "}\n",
       "#T_b652e_row0_col14 {\n",
       "  background-color: #9cd797;\n",
       "  color: #000000;\n",
       "}\n",
       "#T_b652e_row0_col15 {\n",
       "  background-color: #9ed798;\n",
       "  color: #000000;\n",
       "}\n",
       "#T_b652e_row1_col4 {\n",
       "  background-color: #c7e9c0;\n",
       "  color: #000000;\n",
       "}\n",
       "#T_b652e_row1_col11, #T_b652e_row2_col11 {\n",
       "  background-color: #0b7734;\n",
       "  color: #f1f1f1;\n",
       "}\n",
       "#T_b652e_row2_col4 {\n",
       "  background-color: #73c476;\n",
       "  color: #000000;\n",
       "}\n",
       "#T_b652e_row2_col13 {\n",
       "  background-color: #40aa5d;\n",
       "  color: #f1f1f1;\n",
       "}\n",
       "#T_b652e_row2_col14 {\n",
       "  background-color: #0a7633;\n",
       "  color: #f1f1f1;\n",
       "}\n",
       "#T_b652e_row2_col15 {\n",
       "  background-color: #16803c;\n",
       "  color: #f1f1f1;\n",
       "}\n",
       "#T_b652e_row3_col4 {\n",
       "  background-color: #228a44;\n",
       "  color: #f1f1f1;\n",
       "}\n",
       "#T_b652e_row3_col14 {\n",
       "  background-color: #bbe4b4;\n",
       "  color: #000000;\n",
       "}\n",
       "#T_b652e_row3_col15 {\n",
       "  background-color: #b6e2af;\n",
       "  color: #000000;\n",
       "}\n",
       "</style>\n",
       "<table id=\"T_b652e\">\n",
       "  <thead>\n",
       "    <tr>\n",
       "      <th class=\"blank level0\" >&nbsp;</th>\n",
       "      <th id=\"T_b652e_level0_col0\" class=\"col_heading level0 col0\" >datetime</th>\n",
       "      <th id=\"T_b652e_level0_col1\" class=\"col_heading level0 col1\" >season</th>\n",
       "      <th id=\"T_b652e_level0_col2\" class=\"col_heading level0 col2\" >year</th>\n",
       "      <th id=\"T_b652e_level0_col3\" class=\"col_heading level0 col3\" >month</th>\n",
       "      <th id=\"T_b652e_level0_col4\" class=\"col_heading level0 col4\" >hour</th>\n",
       "      <th id=\"T_b652e_level0_col5\" class=\"col_heading level0 col5\" >holiday</th>\n",
       "      <th id=\"T_b652e_level0_col6\" class=\"col_heading level0 col6\" >weekday</th>\n",
       "      <th id=\"T_b652e_level0_col7\" class=\"col_heading level0 col7\" >workingday</th>\n",
       "      <th id=\"T_b652e_level0_col8\" class=\"col_heading level0 col8\" >weather</th>\n",
       "      <th id=\"T_b652e_level0_col9\" class=\"col_heading level0 col9\" >temp</th>\n",
       "      <th id=\"T_b652e_level0_col10\" class=\"col_heading level0 col10\" >atemp</th>\n",
       "      <th id=\"T_b652e_level0_col11\" class=\"col_heading level0 col11\" >humidity</th>\n",
       "      <th id=\"T_b652e_level0_col12\" class=\"col_heading level0 col12\" >windspeed</th>\n",
       "      <th id=\"T_b652e_level0_col13\" class=\"col_heading level0 col13\" >casual</th>\n",
       "      <th id=\"T_b652e_level0_col14\" class=\"col_heading level0 col14\" >registered</th>\n",
       "      <th id=\"T_b652e_level0_col15\" class=\"col_heading level0 col15\" >count</th>\n",
       "      <th id=\"T_b652e_level0_col16\" class=\"col_heading level0 col16\" >rush_hour</th>\n",
       "    </tr>\n",
       "  </thead>\n",
       "  <tbody>\n",
       "    <tr>\n",
       "      <th id=\"T_b652e_level0_row0\" class=\"row_heading level0 row0\" >0</th>\n",
       "      <td id=\"T_b652e_row0_col0\" class=\"data row0 col0\" >2011-01-01 00:00:00</td>\n",
       "      <td id=\"T_b652e_row0_col1\" class=\"data row0 col1\" >1</td>\n",
       "      <td id=\"T_b652e_row0_col2\" class=\"data row0 col2\" >False</td>\n",
       "      <td id=\"T_b652e_row0_col3\" class=\"data row0 col3\" >1</td>\n",
       "      <td id=\"T_b652e_row0_col4\" class=\"data row0 col4\" >0</td>\n",
       "      <td id=\"T_b652e_row0_col5\" class=\"data row0 col5\" >False</td>\n",
       "      <td id=\"T_b652e_row0_col6\" class=\"data row0 col6\" >6</td>\n",
       "      <td id=\"T_b652e_row0_col7\" class=\"data row0 col7\" >False</td>\n",
       "      <td id=\"T_b652e_row0_col8\" class=\"data row0 col8\" >Clear</td>\n",
       "      <td id=\"T_b652e_row0_col9\" class=\"data row0 col9\" >0.240000</td>\n",
       "      <td id=\"T_b652e_row0_col10\" class=\"data row0 col10\" >0.287900</td>\n",
       "      <td id=\"T_b652e_row0_col11\" class=\"data row0 col11\" >0.810000</td>\n",
       "      <td id=\"T_b652e_row0_col12\" class=\"data row0 col12\" >0.000000</td>\n",
       "      <td id=\"T_b652e_row0_col13\" class=\"data row0 col13\" >3</td>\n",
       "      <td id=\"T_b652e_row0_col14\" class=\"data row0 col14\" >13</td>\n",
       "      <td id=\"T_b652e_row0_col15\" class=\"data row0 col15\" >16</td>\n",
       "      <td id=\"T_b652e_row0_col16\" class=\"data row0 col16\" >0</td>\n",
       "    </tr>\n",
       "    <tr>\n",
       "      <th id=\"T_b652e_level0_row1\" class=\"row_heading level0 row1\" >1</th>\n",
       "      <td id=\"T_b652e_row1_col0\" class=\"data row1 col0\" >2011-01-01 00:00:00</td>\n",
       "      <td id=\"T_b652e_row1_col1\" class=\"data row1 col1\" >1</td>\n",
       "      <td id=\"T_b652e_row1_col2\" class=\"data row1 col2\" >False</td>\n",
       "      <td id=\"T_b652e_row1_col3\" class=\"data row1 col3\" >1</td>\n",
       "      <td id=\"T_b652e_row1_col4\" class=\"data row1 col4\" >1</td>\n",
       "      <td id=\"T_b652e_row1_col5\" class=\"data row1 col5\" >False</td>\n",
       "      <td id=\"T_b652e_row1_col6\" class=\"data row1 col6\" >6</td>\n",
       "      <td id=\"T_b652e_row1_col7\" class=\"data row1 col7\" >False</td>\n",
       "      <td id=\"T_b652e_row1_col8\" class=\"data row1 col8\" >Clear</td>\n",
       "      <td id=\"T_b652e_row1_col9\" class=\"data row1 col9\" >0.220000</td>\n",
       "      <td id=\"T_b652e_row1_col10\" class=\"data row1 col10\" >0.272700</td>\n",
       "      <td id=\"T_b652e_row1_col11\" class=\"data row1 col11\" >0.800000</td>\n",
       "      <td id=\"T_b652e_row1_col12\" class=\"data row1 col12\" >0.000000</td>\n",
       "      <td id=\"T_b652e_row1_col13\" class=\"data row1 col13\" >8</td>\n",
       "      <td id=\"T_b652e_row1_col14\" class=\"data row1 col14\" >32</td>\n",
       "      <td id=\"T_b652e_row1_col15\" class=\"data row1 col15\" >40</td>\n",
       "      <td id=\"T_b652e_row1_col16\" class=\"data row1 col16\" >0</td>\n",
       "    </tr>\n",
       "    <tr>\n",
       "      <th id=\"T_b652e_level0_row2\" class=\"row_heading level0 row2\" >2</th>\n",
       "      <td id=\"T_b652e_row2_col0\" class=\"data row2 col0\" >2011-01-01 00:00:00</td>\n",
       "      <td id=\"T_b652e_row2_col1\" class=\"data row2 col1\" >1</td>\n",
       "      <td id=\"T_b652e_row2_col2\" class=\"data row2 col2\" >False</td>\n",
       "      <td id=\"T_b652e_row2_col3\" class=\"data row2 col3\" >1</td>\n",
       "      <td id=\"T_b652e_row2_col4\" class=\"data row2 col4\" >2</td>\n",
       "      <td id=\"T_b652e_row2_col5\" class=\"data row2 col5\" >False</td>\n",
       "      <td id=\"T_b652e_row2_col6\" class=\"data row2 col6\" >6</td>\n",
       "      <td id=\"T_b652e_row2_col7\" class=\"data row2 col7\" >False</td>\n",
       "      <td id=\"T_b652e_row2_col8\" class=\"data row2 col8\" >Clear</td>\n",
       "      <td id=\"T_b652e_row2_col9\" class=\"data row2 col9\" >0.220000</td>\n",
       "      <td id=\"T_b652e_row2_col10\" class=\"data row2 col10\" >0.272700</td>\n",
       "      <td id=\"T_b652e_row2_col11\" class=\"data row2 col11\" >0.800000</td>\n",
       "      <td id=\"T_b652e_row2_col12\" class=\"data row2 col12\" >0.000000</td>\n",
       "      <td id=\"T_b652e_row2_col13\" class=\"data row2 col13\" >5</td>\n",
       "      <td id=\"T_b652e_row2_col14\" class=\"data row2 col14\" >27</td>\n",
       "      <td id=\"T_b652e_row2_col15\" class=\"data row2 col15\" >32</td>\n",
       "      <td id=\"T_b652e_row2_col16\" class=\"data row2 col16\" >0</td>\n",
       "    </tr>\n",
       "    <tr>\n",
       "      <th id=\"T_b652e_level0_row3\" class=\"row_heading level0 row3\" >3</th>\n",
       "      <td id=\"T_b652e_row3_col0\" class=\"data row3 col0\" >2011-01-01 00:00:00</td>\n",
       "      <td id=\"T_b652e_row3_col1\" class=\"data row3 col1\" >1</td>\n",
       "      <td id=\"T_b652e_row3_col2\" class=\"data row3 col2\" >False</td>\n",
       "      <td id=\"T_b652e_row3_col3\" class=\"data row3 col3\" >1</td>\n",
       "      <td id=\"T_b652e_row3_col4\" class=\"data row3 col4\" >3</td>\n",
       "      <td id=\"T_b652e_row3_col5\" class=\"data row3 col5\" >False</td>\n",
       "      <td id=\"T_b652e_row3_col6\" class=\"data row3 col6\" >6</td>\n",
       "      <td id=\"T_b652e_row3_col7\" class=\"data row3 col7\" >False</td>\n",
       "      <td id=\"T_b652e_row3_col8\" class=\"data row3 col8\" >Clear</td>\n",
       "      <td id=\"T_b652e_row3_col9\" class=\"data row3 col9\" >0.240000</td>\n",
       "      <td id=\"T_b652e_row3_col10\" class=\"data row3 col10\" >0.287900</td>\n",
       "      <td id=\"T_b652e_row3_col11\" class=\"data row3 col11\" >0.750000</td>\n",
       "      <td id=\"T_b652e_row3_col12\" class=\"data row3 col12\" >0.000000</td>\n",
       "      <td id=\"T_b652e_row3_col13\" class=\"data row3 col13\" >3</td>\n",
       "      <td id=\"T_b652e_row3_col14\" class=\"data row3 col14\" >10</td>\n",
       "      <td id=\"T_b652e_row3_col15\" class=\"data row3 col15\" >13</td>\n",
       "      <td id=\"T_b652e_row3_col16\" class=\"data row3 col16\" >0</td>\n",
       "    </tr>\n",
       "    <tr>\n",
       "      <th id=\"T_b652e_level0_row4\" class=\"row_heading level0 row4\" >4</th>\n",
       "      <td id=\"T_b652e_row4_col0\" class=\"data row4 col0\" >2011-01-01 00:00:00</td>\n",
       "      <td id=\"T_b652e_row4_col1\" class=\"data row4 col1\" >1</td>\n",
       "      <td id=\"T_b652e_row4_col2\" class=\"data row4 col2\" >False</td>\n",
       "      <td id=\"T_b652e_row4_col3\" class=\"data row4 col3\" >1</td>\n",
       "      <td id=\"T_b652e_row4_col4\" class=\"data row4 col4\" >4</td>\n",
       "      <td id=\"T_b652e_row4_col5\" class=\"data row4 col5\" >False</td>\n",
       "      <td id=\"T_b652e_row4_col6\" class=\"data row4 col6\" >6</td>\n",
       "      <td id=\"T_b652e_row4_col7\" class=\"data row4 col7\" >False</td>\n",
       "      <td id=\"T_b652e_row4_col8\" class=\"data row4 col8\" >Clear</td>\n",
       "      <td id=\"T_b652e_row4_col9\" class=\"data row4 col9\" >0.240000</td>\n",
       "      <td id=\"T_b652e_row4_col10\" class=\"data row4 col10\" >0.287900</td>\n",
       "      <td id=\"T_b652e_row4_col11\" class=\"data row4 col11\" >0.750000</td>\n",
       "      <td id=\"T_b652e_row4_col12\" class=\"data row4 col12\" >0.000000</td>\n",
       "      <td id=\"T_b652e_row4_col13\" class=\"data row4 col13\" >0</td>\n",
       "      <td id=\"T_b652e_row4_col14\" class=\"data row4 col14\" >1</td>\n",
       "      <td id=\"T_b652e_row4_col15\" class=\"data row4 col15\" >1</td>\n",
       "      <td id=\"T_b652e_row4_col16\" class=\"data row4 col16\" >0</td>\n",
       "    </tr>\n",
       "  </tbody>\n",
       "</table>\n"
      ],
      "text/plain": [
       "<pandas.io.formats.style.Styler at 0x21dbd73bbf0>"
      ]
     },
     "execution_count": 41,
     "metadata": {},
     "output_type": "execute_result"
    }
   ],
   "source": [
    "# function to determine if a given hour is typically a rush hour\n",
    "def is_rush_hour(hour):\n",
    "    if (7 <= hour <= 9) or (17 <= hour <= 19):\n",
    "        return 1\n",
    "    else:\n",
    "        return 0\n",
    "\n",
    "# create the new 'rush_hour' feature\n",
    "bike_dataset['rush_hour'] = bike_dataset['hour'].apply(is_rush_hour)\n",
    "\n",
    "bike_dataset.head().style.background_gradient(cmap='Greens')"
   ]
  },
  {
   "cell_type": "code",
   "execution_count": 42,
   "id": "bc683b1e",
   "metadata": {},
   "outputs": [],
   "source": [
    "bike_dataset['rush_hour'] = bike_dataset['rush_hour'].map({0: True, 1: False})"
   ]
  },
  {
   "cell_type": "code",
   "execution_count": 43,
   "id": "ae8bf758",
   "metadata": {},
   "outputs": [],
   "source": [
    "bike_dataset.to_csv(\"cleaned_df.csv\",index=False)"
   ]
  },
  {
   "cell_type": "markdown",
   "id": "6da94701",
   "metadata": {},
   "source": [
    "# 5. preprocessing"
   ]
  },
  {
   "cell_type": "markdown",
   "id": "d38741da",
   "metadata": {},
   "source": [
    "feature target split"
   ]
  },
  {
   "cell_type": "code",
   "execution_count": 35,
   "id": "d317773b",
   "metadata": {},
   "outputs": [],
   "source": [
    "x=bike_dataset.drop(columns=['casual','registered','count','datetime'],axis=1)\n",
    "y = bike_dataset['count'].copy()"
   ]
  },
  {
   "cell_type": "code",
   "execution_count": 36,
   "id": "c8a13451",
   "metadata": {},
   "outputs": [
    {
     "data": {
      "text/html": [
       "<div>\n",
       "<style scoped>\n",
       "    .dataframe tbody tr th:only-of-type {\n",
       "        vertical-align: middle;\n",
       "    }\n",
       "\n",
       "    .dataframe tbody tr th {\n",
       "        vertical-align: top;\n",
       "    }\n",
       "\n",
       "    .dataframe thead th {\n",
       "        text-align: right;\n",
       "    }\n",
       "</style>\n",
       "<table border=\"1\" class=\"dataframe\">\n",
       "  <thead>\n",
       "    <tr style=\"text-align: right;\">\n",
       "      <th></th>\n",
       "      <th>season</th>\n",
       "      <th>year</th>\n",
       "      <th>month</th>\n",
       "      <th>hour</th>\n",
       "      <th>holiday</th>\n",
       "      <th>weekday</th>\n",
       "      <th>workingday</th>\n",
       "      <th>weather</th>\n",
       "      <th>temp</th>\n",
       "      <th>atemp</th>\n",
       "      <th>humidity</th>\n",
       "      <th>windspeed</th>\n",
       "      <th>rush_hour</th>\n",
       "    </tr>\n",
       "  </thead>\n",
       "  <tbody>\n",
       "    <tr>\n",
       "      <th>0</th>\n",
       "      <td>1</td>\n",
       "      <td>False</td>\n",
       "      <td>1</td>\n",
       "      <td>0</td>\n",
       "      <td>False</td>\n",
       "      <td>6</td>\n",
       "      <td>False</td>\n",
       "      <td>Clear</td>\n",
       "      <td>0.24</td>\n",
       "      <td>0.2879</td>\n",
       "      <td>0.81</td>\n",
       "      <td>0.0000</td>\n",
       "      <td>True</td>\n",
       "    </tr>\n",
       "    <tr>\n",
       "      <th>1</th>\n",
       "      <td>1</td>\n",
       "      <td>False</td>\n",
       "      <td>1</td>\n",
       "      <td>1</td>\n",
       "      <td>False</td>\n",
       "      <td>6</td>\n",
       "      <td>False</td>\n",
       "      <td>Clear</td>\n",
       "      <td>0.22</td>\n",
       "      <td>0.2727</td>\n",
       "      <td>0.80</td>\n",
       "      <td>0.0000</td>\n",
       "      <td>True</td>\n",
       "    </tr>\n",
       "    <tr>\n",
       "      <th>2</th>\n",
       "      <td>1</td>\n",
       "      <td>False</td>\n",
       "      <td>1</td>\n",
       "      <td>2</td>\n",
       "      <td>False</td>\n",
       "      <td>6</td>\n",
       "      <td>False</td>\n",
       "      <td>Clear</td>\n",
       "      <td>0.22</td>\n",
       "      <td>0.2727</td>\n",
       "      <td>0.80</td>\n",
       "      <td>0.0000</td>\n",
       "      <td>True</td>\n",
       "    </tr>\n",
       "    <tr>\n",
       "      <th>3</th>\n",
       "      <td>1</td>\n",
       "      <td>False</td>\n",
       "      <td>1</td>\n",
       "      <td>3</td>\n",
       "      <td>False</td>\n",
       "      <td>6</td>\n",
       "      <td>False</td>\n",
       "      <td>Clear</td>\n",
       "      <td>0.24</td>\n",
       "      <td>0.2879</td>\n",
       "      <td>0.75</td>\n",
       "      <td>0.0000</td>\n",
       "      <td>True</td>\n",
       "    </tr>\n",
       "    <tr>\n",
       "      <th>4</th>\n",
       "      <td>1</td>\n",
       "      <td>False</td>\n",
       "      <td>1</td>\n",
       "      <td>4</td>\n",
       "      <td>False</td>\n",
       "      <td>6</td>\n",
       "      <td>False</td>\n",
       "      <td>Clear</td>\n",
       "      <td>0.24</td>\n",
       "      <td>0.2879</td>\n",
       "      <td>0.75</td>\n",
       "      <td>0.0000</td>\n",
       "      <td>True</td>\n",
       "    </tr>\n",
       "    <tr>\n",
       "      <th>...</th>\n",
       "      <td>...</td>\n",
       "      <td>...</td>\n",
       "      <td>...</td>\n",
       "      <td>...</td>\n",
       "      <td>...</td>\n",
       "      <td>...</td>\n",
       "      <td>...</td>\n",
       "      <td>...</td>\n",
       "      <td>...</td>\n",
       "      <td>...</td>\n",
       "      <td>...</td>\n",
       "      <td>...</td>\n",
       "      <td>...</td>\n",
       "    </tr>\n",
       "    <tr>\n",
       "      <th>17374</th>\n",
       "      <td>1</td>\n",
       "      <td>True</td>\n",
       "      <td>12</td>\n",
       "      <td>19</td>\n",
       "      <td>False</td>\n",
       "      <td>1</td>\n",
       "      <td>True</td>\n",
       "      <td>Mist</td>\n",
       "      <td>0.26</td>\n",
       "      <td>0.2576</td>\n",
       "      <td>0.60</td>\n",
       "      <td>0.1642</td>\n",
       "      <td>False</td>\n",
       "    </tr>\n",
       "    <tr>\n",
       "      <th>17375</th>\n",
       "      <td>1</td>\n",
       "      <td>True</td>\n",
       "      <td>12</td>\n",
       "      <td>20</td>\n",
       "      <td>False</td>\n",
       "      <td>1</td>\n",
       "      <td>True</td>\n",
       "      <td>Mist</td>\n",
       "      <td>0.26</td>\n",
       "      <td>0.2576</td>\n",
       "      <td>0.60</td>\n",
       "      <td>0.1642</td>\n",
       "      <td>True</td>\n",
       "    </tr>\n",
       "    <tr>\n",
       "      <th>17376</th>\n",
       "      <td>1</td>\n",
       "      <td>True</td>\n",
       "      <td>12</td>\n",
       "      <td>21</td>\n",
       "      <td>False</td>\n",
       "      <td>1</td>\n",
       "      <td>True</td>\n",
       "      <td>Clear</td>\n",
       "      <td>0.26</td>\n",
       "      <td>0.2576</td>\n",
       "      <td>0.60</td>\n",
       "      <td>0.1642</td>\n",
       "      <td>True</td>\n",
       "    </tr>\n",
       "    <tr>\n",
       "      <th>17377</th>\n",
       "      <td>1</td>\n",
       "      <td>True</td>\n",
       "      <td>12</td>\n",
       "      <td>22</td>\n",
       "      <td>False</td>\n",
       "      <td>1</td>\n",
       "      <td>True</td>\n",
       "      <td>Clear</td>\n",
       "      <td>0.26</td>\n",
       "      <td>0.2727</td>\n",
       "      <td>0.56</td>\n",
       "      <td>0.1343</td>\n",
       "      <td>True</td>\n",
       "    </tr>\n",
       "    <tr>\n",
       "      <th>17378</th>\n",
       "      <td>1</td>\n",
       "      <td>True</td>\n",
       "      <td>12</td>\n",
       "      <td>23</td>\n",
       "      <td>False</td>\n",
       "      <td>1</td>\n",
       "      <td>True</td>\n",
       "      <td>Clear</td>\n",
       "      <td>0.26</td>\n",
       "      <td>0.2727</td>\n",
       "      <td>0.65</td>\n",
       "      <td>0.1343</td>\n",
       "      <td>True</td>\n",
       "    </tr>\n",
       "  </tbody>\n",
       "</table>\n",
       "<p>16259 rows × 13 columns</p>\n",
       "</div>"
      ],
      "text/plain": [
       "       season   year  month  hour  ...   atemp  humidity  windspeed rush_hour\n",
       "0           1  False      1     0  ...  0.2879      0.81     0.0000      True\n",
       "1           1  False      1     1  ...  0.2727      0.80     0.0000      True\n",
       "2           1  False      1     2  ...  0.2727      0.80     0.0000      True\n",
       "3           1  False      1     3  ...  0.2879      0.75     0.0000      True\n",
       "4           1  False      1     4  ...  0.2879      0.75     0.0000      True\n",
       "...       ...    ...    ...   ...  ...     ...       ...        ...       ...\n",
       "17374       1   True     12    19  ...  0.2576      0.60     0.1642     False\n",
       "17375       1   True     12    20  ...  0.2576      0.60     0.1642      True\n",
       "17376       1   True     12    21  ...  0.2576      0.60     0.1642      True\n",
       "17377       1   True     12    22  ...  0.2727      0.56     0.1343      True\n",
       "17378       1   True     12    23  ...  0.2727      0.65     0.1343      True\n",
       "\n",
       "[16259 rows x 13 columns]"
      ]
     },
     "execution_count": 36,
     "metadata": {},
     "output_type": "execute_result"
    }
   ],
   "source": [
    "x"
   ]
  },
  {
   "cell_type": "code",
   "execution_count": 37,
   "id": "d9c56e87",
   "metadata": {},
   "outputs": [
    {
     "data": {
      "text/plain": [
       "<Axes: xlabel='count', ylabel='Count'>"
      ]
     },
     "execution_count": 37,
     "metadata": {},
     "output_type": "execute_result"
    },
    {
     "data": {
      "image/png": "[encoded data removed]",
      "text/plain": [
       "<Figure size 640x480 with 1 Axes>"
      ]
     },
     "metadata": {},
     "output_type": "display_data"
    }
   ],
   "source": [
    "sns.histplot(x=y)"
   ]
  },
  {
   "cell_type": "code",
   "execution_count": 38,
   "id": "fb9dfb9b",
   "metadata": {},
   "outputs": [],
   "source": [
    "from sklearn.model_selection import train_test_split"
   ]
  },
  {
   "cell_type": "markdown",
   "id": "021dcaa1",
   "metadata": {},
   "source": [
    "splitting data to train and test to use in models"
   ]
  },
  {
   "cell_type": "code",
   "execution_count": 39,
   "id": "e9536ad5",
   "metadata": {},
   "outputs": [],
   "source": [
    "x_train,x_test,y_train,y_test=train_test_split(x,y,random_state=42,test_size=0.2)"
   ]
  },
  {
   "cell_type": "code",
   "execution_count": 40,
   "id": "9532a7c2",
   "metadata": {},
   "outputs": [],
   "source": [
    "from sklearn.preprocessing import PolynomialFeatures, OneHotEncoder \n",
    "from sklearn.compose import ColumnTransformer\n",
    "from sklearn.pipeline import Pipeline"
   ]
  },
  {
   "cell_type": "code",
   "execution_count": 41,
   "id": "2b0e8bd2",
   "metadata": {},
   "outputs": [],
   "source": [
    "num_cols=x.select_dtypes(exclude=\"O\").columns.to_list()\n",
    "cat_cols=x.select_dtypes(include=\"O\").columns.to_list()\n"
   ]
  },
  {
   "cell_type": "markdown",
   "id": "fd222b5e",
   "metadata": {},
   "source": [
    "### Preprocessing Pipeline Function\n",
    "Defines a reusable preprocessor for model pipelines:  \n",
    "- **Numerical features**: Applies `PolynomialFeatures` (degree customizable via `d`)  \n",
    "- **Categorical features**: Uses `OneHotEncoder` (drops first category)  \n",
    "- **Returns**: A `ColumnTransformer` ready for model integration  "
   ]
  },
  {
   "cell_type": "code",
   "execution_count": 42,
   "id": "029d7747",
   "metadata": {},
   "outputs": [],
   "source": [
    "\n",
    "def prep( d=2):\n",
    "    numerical_transformer = Pipeline(steps=[  \n",
    "        ('poly', PolynomialFeatures(degree=d))])\n",
    "    \n",
    "    cat_transformer = Pipeline(steps=[\n",
    "        ('encoder', OneHotEncoder(drop='first'))])\n",
    "    \n",
    "    preprocessor = ColumnTransformer(transformers=[\n",
    "        ('num_prep', numerical_transformer, num_cols),\n",
    "        ('cat', cat_transformer, cat_cols)\n",
    "    ])\n",
    "    \n",
    "    return preprocessor\n",
    "\n"
   ]
  },
  {
   "cell_type": "code",
   "execution_count": 43,
   "id": "9afa4b74",
   "metadata": {},
   "outputs": [],
   "source": [
    "# numerical_transformer = Pipeline(steps=[  \n",
    "# ('poly', PolynomialFeatures())])\n",
    "\n",
    "# cat_transformer = Pipeline(steps=[\n",
    "# ('encoder', OneHotEncoder(drop='first'))])\n",
    "\n",
    "# preprocessor = ColumnTransformer(transformers=[\n",
    "# ('num_prep', numerical_transformer, num_cols),\n",
    "# ('cat', cat_transformer, cat_cols)])"
   ]
  },
  {
   "cell_type": "markdown",
   "id": "0d73cb46",
   "metadata": {},
   "source": [
    "# 6. Machine learning models"
   ]
  },
  {
   "cell_type": "markdown",
   "id": "93872850",
   "metadata": {},
   "source": [
    "# Ridge model\n",
    "trying the model first, \n",
    "then applying gridsearch"
   ]
  },
  {
   "cell_type": "code",
   "execution_count": 44,
   "id": "8eaed6ad",
   "metadata": {},
   "outputs": [
    {
     "name": "stdout",
     "output_type": "stream",
     "text": [
      "Train Acc: 0.7417365110199041\n",
      "Test Acc: 0.7527753913101367\n"
     ]
    }
   ],
   "source": [
    "from sklearn.linear_model import Ridge\n",
    "\n",
    "r_reg= Ridge()\n",
    "\n",
    "ridge_pipeline= Pipeline(steps=[(\"preprocessing\",prep(2)),(\"ridge\",Ridge())]) \n",
    "ridge_pipeline.fit(x_train,y_train)\n",
    "print(\"Train Acc:\",ridge_pipeline.score(x_train,y_train))\n",
    "print(\"Test Acc:\",ridge_pipeline.score(x_test,y_test))"
   ]
  },
  {
   "cell_type": "code",
   "execution_count": 45,
   "id": "ef0b72a8",
   "metadata": {},
   "outputs": [],
   "source": [
    "\n",
    "import warnings\n",
    "from sklearn.exceptions import ConvergenceWarning\n",
    "import numpy as np\n",
    "\n",
    "# Suppress specific warnings\n",
    "warnings.filterwarnings(action='ignore', category=ConvergenceWarning)\n",
    "warnings.filterwarnings(action='ignore', category=UserWarning)\n",
    "warnings.filterwarnings(action='ignore', category=RuntimeWarning)\n",
    "warnings.filterwarnings(action='ignore', category=Warning)  # This will catch the LinAlgWarning\n"
   ]
  },
  {
   "cell_type": "code",
   "execution_count": 46,
   "id": "bbc39c26",
   "metadata": {},
   "outputs": [
    {
     "name": "stdout",
     "output_type": "stream",
     "text": [
      "best r2 score:  0.853\n",
      "best neg_mse: -3064.529\n",
      "Best neg_mae: -39.55\n",
      "best parameters:  {'preprocessing__num_prep__poly__degree': 4, 'ridge__alpha': 1}\n"
     ]
    }
   ],
   "source": [
    "from sklearn.linear_model import Ridge\n",
    "from sklearn.model_selection import GridSearchCV\n",
    "\n",
    "scoring = {'r2': 'r2',\n",
    "'neg_mse': 'neg_mean_squared_error',\n",
    "'neg_mae': 'neg_mean_absolute_error'\n",
    "}\n",
    "\n",
    "\n",
    "ridge_param_grid = {'preprocessing__num_prep__poly__degree': [1, 2, 3, 4],'ridge__alpha': [0.01, 0.1, 1, 10, 100]}\n",
    "\n",
    "ridge_gs = GridSearchCV(ridge_pipeline, ridge_param_grid, cv=5, scoring=scoring, refit='r2')\n",
    "\n",
    "ridge_gs.fit(x_train, y_train)\n",
    "\n",
    "print(\"best r2 score: \", ridge_gs.best_score_.round(3))\n",
    "print(\"best neg_mse:\", ridge_gs.cv_results_['mean_test_neg_mse'][ridge_gs.best_index_].round(3))\n",
    "print(\"Best neg_mae:\", ridge_gs.cv_results_['mean_test_neg_mae'][ridge_gs.best_index_].round(3))\n",
    "print(\"best parameters: \", ridge_gs.best_params_)"
   ]
  },
  {
   "cell_type": "markdown",
   "id": "4189a502",
   "metadata": {},
   "source": [
    "# XGboots gridsearch"
   ]
  },
  {
   "cell_type": "code",
   "execution_count": 47,
   "id": "1ad263b2",
   "metadata": {},
   "outputs": [
    {
     "name": "stdout",
     "output_type": "stream",
     "text": [
      "best r2 score:  0.924\n",
      "Best neg_mse: -1576.798\n",
      "Best negmae: -25.764\n",
      "best parameters:  {'preprocessing__num_prep__poly__degree': 2, 'xgb__alpha': 1, 'xgb__lambda': 0.1, 'xgb__learning_rate': 0.1, 'xgb__max_depth': 5, 'xgb__objective': 'reg:squarederror'}\n"
     ]
    }
   ],
   "source": [
    "from xgboost import XGBRegressor\n",
    "from sklearn.model_selection import GridSearchCV\n",
    "from sklearn.pipeline import Pipeline\n",
    "\n",
    "xgb_pipeline = Pipeline([('preprocessing', prep()),('xgb', XGBRegressor(objective='reg:squarederror'))])\n",
    "\n",
    "\n",
    "xgb_param_grid = {\n",
    "    'xgb__objective': ['reg:squarederror', 'reg:absoluteerror'], \n",
    "    'xgb__max_depth': [3, 5],\n",
    "    'xgb__learning_rate': [0.05, 0.1],\n",
    "    'xgb__alpha': [0.1, 1],  \n",
    "    'xgb__lambda': [0.1, 1],  \n",
    "    'preprocessing__num_prep__poly__degree': [1, 2, 3, 4]  \n",
    "}\n",
    "\n",
    "\n",
    "\n",
    "xgb_gs = GridSearchCV(xgb_pipeline,xgb_param_grid,cv=5,scoring=scoring,refit='r2')\n",
    "\n",
    "xgb_gs.fit(x_train, y_train)\n",
    "\n",
    "best_model = xgb_gs.best_estimator_\n",
    "\n",
    "print(\"best r2 score: \", xgb_gs.best_score_.round(3))\n",
    "print(\"Best neg_mse:\", xgb_gs.cv_results_['mean_test_neg_mse'][xgb_gs.best_index_].round(3))\n",
    "print(\"Best negmae:\", xgb_gs.cv_results_['mean_test_neg_mae'][xgb_gs.best_index_].round(3))\n",
    "print(\"best parameters: \", xgb_gs.best_params_)"
   ]
  },
  {
   "cell_type": "markdown",
   "id": "f71709da",
   "metadata": {},
   "source": [
    "# KNN"
   ]
  },
  {
   "cell_type": "code",
   "execution_count": 48,
   "id": "73fc083a",
   "metadata": {},
   "outputs": [
    {
     "name": "stdout",
     "output_type": "stream",
     "text": [
      "KNN best r2 score: 0.888\n",
      "KNN best neg_mse: -2335.963\n",
      "KNN best neg_mae: -30.738\n",
      "KNN best parameters: {'knn__n_neighbors': 7, 'knn__p': 1, 'knn__weights': 'distance', 'preprocessing__num_prep__poly__degree': 1}\n"
     ]
    }
   ],
   "source": [
    "from sklearn.neighbors import KNeighborsRegressor\n",
    "from sklearn.model_selection import GridSearchCV\n",
    "\n",
    "knn_pipeline = Pipeline([('preprocessing', prep()), ('knn', KNeighborsRegressor())])\n",
    "\n",
    "knn_param_grid = {\n",
    "    'knn__n_neighbors': [3, 5, 7],\n",
    "    'knn__weights': ['uniform', 'distance'],\n",
    "    'knn__p': [1, 2],\n",
    "    'preprocessing__num_prep__poly__degree': [1, 2, 3, 4]\n",
    "}\n",
    "\n",
    "knn_gs = GridSearchCV(knn_pipeline, knn_param_grid, cv=5, scoring=scoring, refit='r2')\n",
    "knn_gs.fit(x_train, y_train)\n",
    "\n",
    "print(\"KNN best r2 score:\", knn_gs.best_score_.round(3))\n",
    "print(\"KNN best neg_mse:\", knn_gs.cv_results_['mean_test_neg_mse'][knn_gs.best_index_].round(3))\n",
    "print(\"KNN best neg_mae:\", knn_gs.cv_results_['mean_test_neg_mae'][knn_gs.best_index_].round(3))\n",
    "print(\"KNN best parameters:\", knn_gs.best_params_)"
   ]
  },
  {
   "cell_type": "markdown",
   "id": "455ae68f",
   "metadata": {},
   "source": [
    "# Linear regression"
   ]
  },
  {
   "cell_type": "code",
   "execution_count": 49,
   "id": "dea99fbb",
   "metadata": {},
   "outputs": [
    {
     "name": "stdout",
     "output_type": "stream",
     "text": [
      "best r2 score:  0.83\n",
      "best parameters:  {'preprocessing__num_prep__poly__degree': 3}\n"
     ]
    }
   ],
   "source": [
    "from sklearn.linear_model import LinearRegression\n",
    "from sklearn.model_selection import GridSearchCV\n",
    "from sklearn.pipeline import Pipeline\n",
    "\n",
    "\n",
    "param_grid = {'preprocessing__num_prep__poly__degree': [1, 2, 3, 4]}\n",
    "\n",
    "linear_pipeline = Pipeline(steps=[('preprocessing', prep()),('linearregression', LinearRegression())])\n",
    "\n",
    "lr_gs = GridSearchCV(linear_pipeline, param_grid, cv=5, scoring=scoring, refit='r2')\n",
    "\n",
    "lr_gs.fit(x_train, y_train)\n",
    "\n",
    "print(\"best r2 score: \", lr_gs.best_score_.round(3))\n",
    "print(\"best parameters: \", lr_gs.best_params_)"
   ]
  },
  {
   "cell_type": "markdown",
   "id": "3cd8ff0d",
   "metadata": {},
   "source": [
    "# Support vector Machine"
   ]
  },
  {
   "cell_type": "code",
   "execution_count": 77,
   "id": "5d17083d",
   "metadata": {},
   "outputs": [
    {
     "name": "stdout",
     "output_type": "stream",
     "text": [
      "svr R2 (train): 0.936\n",
      "svr MSE (train): 1337.344\n",
      "svr MAE (train): 25.611\n",
      "SVR R2 (test): 0.566\n",
      "SVR MSE (test): 9371.306\n",
      "SVR MAE (test): 54.021\n"
     ]
    }
   ],
   "source": [
    "from sklearn.svm import SVR\n",
    "from sklearn.model_selection import GridSearchCV\n",
    "from sklearn.metrics import r2_score, mean_squared_error, mean_absolute_error\n",
    "\n",
    "svr_pipeline = Pipeline(steps=[(\"preprocessing\", prep(2)),(\"svr\", SVR(kernel='rbf', C=100, gamma=\"auto\", epsilon=0.2))])\n",
    "\n",
    "\n",
    "y_train_log = np.log1p(y_train)\n",
    "svr_pipeline.fit(x_train, y_train_log)\n",
    "\n",
    "y_pred_log = svr_pipeline.predict(x_test)\n",
    "\n",
    "y_pred_test_svr = np.expm1(y_pred_log)\n",
    "y_pred_train_svr = np.expm1(svr_pipeline.predict(x_train))\n",
    "print(\"svr R2 (train):\", round(r2_score(y_train, y_pred_train_svr), 3))\n",
    "print(\"svr MSE (train):\", round(mean_squared_error(y_train, y_pred_train_svr), 3))\n",
    "print(\"svr MAE (train):\", round(mean_absolute_error(y_train, y_pred_train_svr), 3))\n",
    "print(\"SVR R2 (test):\", round(r2_score(y_test, y_pred_test_svr), 3))\n",
    "print(\"SVR MSE (test):\", round(mean_squared_error(y_test, y_pred_test_svr), 3))\n",
    "print(\"SVR MAE (test):\", round(mean_absolute_error(y_test, y_pred_test_svr), 3))"
   ]
  },
  {
   "cell_type": "markdown",
   "id": "23ef1a9c",
   "metadata": {},
   "source": [
    "# Random forest"
   ]
  },
  {
   "cell_type": "code",
   "execution_count": 61,
   "id": "dd2e74d0",
   "metadata": {},
   "outputs": [
    {
     "name": "stdout",
     "output_type": "stream",
     "text": [
      "RF R2 (train): 0.99\n",
      "RF MSE (train): 207.759\n",
      "RF MAE (train): 8.888\n",
      "RF R2 (test): 0.936\n",
      "RF MSE (test): 1382.727\n",
      "RF MAE (test): 23.151\n"
     ]
    }
   ],
   "source": [
    "from sklearn.ensemble import RandomForestRegressor\n",
    "from sklearn.model_selection import GridSearchCV\n",
    "from sklearn.pipeline import Pipeline\n",
    "\n",
    "rf_pipeline = Pipeline(steps=[('preprocessing', prep()),('randomforestregressor', RandomForestRegressor(random_state=42,n_estimators=100))])\n",
    "rf_pipeline.fit(x_train, y_train)\n",
    "\n",
    "y_pred_test_rf= rf_pipeline.predict(x_test)\n",
    "y_pred_train_rf= rf_pipeline.predict(x_train)\n",
    "print(\"RF R2 (train):\", round(r2_score(y_train, y_pred_train_rf), 3))\n",
    "print(\"RF MSE (train):\", round(mean_squared_error(y_train, y_pred_train_rf), 3))\n",
    "print(\"RF MAE (train):\", round(mean_absolute_error(y_train, y_pred_train_rf), 3))\n",
    "print(\"RF R2 (test):\", round(r2_score(y_test, y_pred_test_rf), 3))\n",
    "print(\"RF MSE (test):\", round(mean_squared_error(y_test, y_pred_test_rf), 3))\n",
    "print(\"RF MAE (test):\", round(mean_absolute_error(y_test, y_pred_test_rf), 3))"
   ]
  },
  {
   "cell_type": "markdown",
   "id": "f3257487",
   "metadata": {},
   "source": [
    "# gridsearch for all the models we used\n",
    "### Models & Tuning\n",
    "**Models**,\n",
    "**Metrics**,\n",
    "**Tuning**\n"
   ]
  },
  {
   "cell_type": "code",
   "execution_count": 79,
   "id": "8ccab215",
   "metadata": {},
   "outputs": [
    {
     "name": "stdout",
     "output_type": "stream",
     "text": [
      "Ridge best r2 score = 0.8527046589360701\n",
      "None\n",
      "Ridge r2 train score = 0.874265261989489\n",
      "Ridge r2 test score = 0.868976639830557\n",
      "bbest neg_mse: -3064.529\n",
      "best neg_mae: -39.55\n",
      "Ridge best parameters = {'preprocessing__num_prep__poly__degree': 4, 'ridge__alpha': 1}\n",
      "**************************************************\n",
      "linear_reg best r2 score = 0.8295111465059254\n",
      "None\n",
      "linear_reg r2 train score = 0.8414805945632188\n",
      "linear_reg r2 test score = 0.8387274533124861\n",
      "bbest neg_mse: -3547.199\n",
      "best neg_mae: -44.017\n",
      "linear_reg best parameters = {'preprocessing__num_prep__poly__degree': 3}\n",
      "**************************************************\n",
      "XGboost best r2 score = 0.92418874502182\n",
      "None\n",
      "XGboost r2 train score = 0.9468482136726379\n",
      "XGboost r2 test score = 0.9322572946548462\n",
      "bbest neg_mse: -1576.798\n",
      "best neg_mae: -25.764\n",
      "XGboost best parameters = {'preprocessing__num_prep__poly__degree': 2, 'xgboost__alpha': 1, 'xgboost__lambda': 0.1, 'xgboost__learning_rate': 0.1, 'xgboost__max_depth': 5, 'xgboost__objective': 'reg:squarederror'}\n",
      "**************************************************\n",
      "decision_tree best r2 score = 0.8855426469688613\n",
      "None\n",
      "decision_tree r2 train score = 0.9593760400058482\n",
      "decision_tree r2 test score = 0.9008334221842759\n",
      "bbest neg_mse: -2377.335\n",
      "best neg_mae: -29.906\n",
      "decision_tree best parameters = {'decision_tree__max_depth': None, 'decision_tree__min_samples_leaf': 4, 'decision_tree__min_samples_split': 10, 'preprocessing__num_prep__poly__degree': 1}\n",
      "**************************************************\n",
      "knn best r2 score = 0.8300030707199852\n",
      "None\n",
      "knn r2 train score = 0.9999978656533214\n",
      "knn r2 test score = 0.851277959623824\n",
      "bbest neg_mse: -3533.392\n",
      "best neg_mae: -36.951\n",
      "knn best parameters = {'knn__metric': 'minkowski', 'knn__n_neighbors': 10, 'knn__weights': 'distance'}\n",
      "**************************************************\n",
      "random forest R2 (train): 0.99\n",
      "random forest MSE (train): 207.759\n",
      "random forest MAE (train): 8.888\n",
      "random forest (test): 0.936\n",
      "random forest (test): 1382.727\n",
      "random forest (test): 23.151\n",
      "svr R2 (train): 0.936\n",
      "svr MSE (train): 1337.344\n",
      "svr MAE (train): 25.611\n",
      "SVR R2 (test): 0.566\n",
      "SVR MSE (test): 9371.306\n",
      "SVR MAE (test): 54.021\n"
     ]
    }
   ],
   "source": [
    "from xgboost import XGBRegressor\n",
    "from sklearn.ensemble import RandomForestRegressor\n",
    "from sklearn.linear_model import LinearRegression\n",
    "from xgboost import XGBRegressor\n",
    "from sklearn.model_selection import GridSearchCV\n",
    "from sklearn.tree import DecisionTreeRegressor\n",
    "from sklearn.linear_model import HuberRegressor\n",
    "\n",
    "scoring4 = {\n",
    "    'r2': 'r2',\n",
    "    'neg_mse': 'neg_mean_squared_error',\n",
    "    'neg_mae': 'neg_mean_absolute_error'\n",
    "}\n",
    "\n",
    "models = {\"Ridge\": Ridge(),\n",
    "          \"linear_reg\": LinearRegression(),\n",
    "          \"XGboost\":XGBRegressor(),\n",
    "          \"decision_tree\":DecisionTreeRegressor(),\n",
    "          \"knn\":KNeighborsRegressor()}\n",
    "\n",
    "param_grids = {\n",
    "    'Ridge': {'ridge__alpha': [0.1, 1, 10],\n",
    "              'preprocessing__num_prep__poly__degree': [1, 2, 3, 4]},\n",
    "    \n",
    "    'linear_reg':{'preprocessing__num_prep__poly__degree': [1, 2, 3, 4]},\n",
    "    \n",
    "    'XGboost': {'xgboost__objective': ['reg:squarederror', 'reg:absoluteerror'],\n",
    "                'xgboost__max_depth': [3, 5],\n",
    "                'xgboost__learning_rate': [0.05, 0.1],\n",
    "                'xgboost__alpha': [0.1, 1],\n",
    "                'xgboost__lambda': [0.1, 1],\n",
    "                'preprocessing__num_prep__poly__degree': [1, 2, 3, 4]},\n",
    "    \n",
    "    'decision_tree': {\n",
    "        'decision_tree__max_depth': [3, 5, 10, None],\n",
    "        'decision_tree__min_samples_split': [2, 5, 10],\n",
    "        'decision_tree__min_samples_leaf': [1, 2, 4],\n",
    "        'preprocessing__num_prep__poly__degree': [1, 2, 3, 4]\n",
    "    },\n",
    "\n",
    "    'knn': {'knn__n_neighbors': [3, 5, 7, 10], 'knn__weights': ['uniform', 'distance'], 'knn__metric': ['minkowski', 'euclidean']}\n",
    "}\n",
    "\n",
    "\n",
    "\n",
    "for name, model in models.items():\n",
    "    new_full_pipeline = Pipeline(steps=[(\"preprocessing\", prep()),(name.lower(), model)])\n",
    "   \n",
    "    \n",
    "    \n",
    "    all_gs = GridSearchCV(new_full_pipeline, param_grids[name], cv=5,scoring=scoring4,refit='r2')\n",
    "    all_gs.fit(x_train, y_train)\n",
    "    \n",
    "    print(print(name, \"best r2 score =\", all_gs.best_score_))\n",
    "    print(name, \"r2 train score =\", all_gs.score(x_train, y_train))\n",
    "    print(name, \"r2 test score =\", all_gs.score(x_test, y_test))\n",
    "    print(\"bbest neg_mse:\", all_gs.cv_results_['mean_test_neg_mse'][all_gs.best_index_].round(3))\n",
    "    print(\"best neg_mae:\", all_gs.cv_results_['mean_test_neg_mae'][all_gs.best_index_].round(3))\n",
    "    print(name, \"best parameters =\", all_gs.best_params_)\n",
    "    print(\"*\"*50)\n",
    "  \n",
    "print(\"random forest R2 (train):\", round(r2_score(y_train, y_pred_train_rf), 3))\n",
    "print(\"random forest MSE (train):\", round(mean_squared_error(y_train, y_pred_train_rf), 3))\n",
    "print(\"random forest MAE (train):\", round(mean_absolute_error(y_train, y_pred_train_rf), 3))\n",
    "print(\"random forest (test):\", round(r2_score(y_test, y_pred_test_rf), 3))\n",
    "print(\"random forest (test):\", round(mean_squared_error(y_test, y_pred_test_rf), 3))\n",
    "print(\"random forest (test):\", round(mean_absolute_error(y_test, y_pred_test_rf), 3))\n",
    "\n",
    "print(\"svr R2 (train):\", round(r2_score(y_train, y_pred_train_svr), 3))\n",
    "print(\"svr MSE (train):\", round(mean_squared_error(y_train, y_pred_train_svr), 3))\n",
    "print(\"svr MAE (train):\", round(mean_absolute_error(y_train, y_pred_train_svr), 3))\n",
    "print(\"SVR R2 (test):\", round(r2_score(y_test, y_pred_test_svr), 3))\n",
    "print(\"SVR MSE (test):\", round(mean_squared_error(y_test, y_pred_test_svr), 3))\n",
    "print(\"SVR MAE (test):\", round(mean_absolute_error(y_test, y_pred_test_svr), 3))"
   ]
  },
  {
   "cell_type": "markdown",
   "id": "d0cb3a0d",
   "metadata": {},
   "source": [
    "# Saving the best models"
   ]
  },
  {
   "cell_type": "markdown",
   "id": "9dfc2ed2",
   "metadata": {},
   "source": [
    "saving svr model"
   ]
  },
  {
   "cell_type": "code",
   "execution_count": 81,
   "id": "632c2a38",
   "metadata": {},
   "outputs": [
    {
     "data": {
      "text/plain": [
       "['bike_count_prediction_svr.joblib']"
      ]
     },
     "execution_count": 81,
     "metadata": {},
     "output_type": "execute_result"
    }
   ],
   "source": [
    "import joblib\n",
    "joblib.dump(svr_pipeline, \"bike_count_prediction_svr.joblib\")"
   ]
  },
  {
   "cell_type": "code",
   "execution_count": null,
   "id": "db4763cb",
   "metadata": {},
   "outputs": [],
   "source": []
  }
 ],
 "metadata": {
  "kaggle": {
   "accelerator": "none",
   "dataSources": [
    {
     "datasetId": 130897,
     "sourceId": 312329,
     "sourceType": "datasetVersion"
    }
   ],
   "dockerImageVersionId": 31012,
   "isGpuEnabled": false,
   "isInternetEnabled": false,
   "language": "python",
   "sourceType": "notebook"
  },
  "kernelspec": {
   "display_name": "base",
   "language": "python",
   "name": "python3"
  },
  "language_info": {
   "codemirror_mode": {
    "name": "ipython",
    "version": 3
   },
   "file_extension": ".py",
   "mimetype": "text/x-python",
   "name": "python",
   "nbconvert_exporter": "python",
   "pygments_lexer": "ipython3",
   "version": "3.12.4"
  },
  "papermill": {
   "default_parameters": {},
   "duration": 18.005055,
   "end_time": "2025-05-01T18:24:26.286354",
   "environment_variables": {},
   "exception": null,
   "input_path": "__notebook__.ipynb",
   "output_path": "__notebook__.ipynb",
   "parameters": {},
   "start_time": "2025-05-01T18:24:08.281299",
   "version": "2.6.0"
  }
 },
 "nbformat": 4,
 "nbformat_minor": 5
}
